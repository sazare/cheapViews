{
 "cells": [
  {
   "cell_type": "markdown",
   "metadata": {},
   "source": [
    "# A example: analyzing proofs"
   ]
  },
  {
   "cell_type": "code",
   "execution_count": 18,
   "metadata": {},
   "outputs": [],
   "source": [
    "#cd(\"..\")"
   ]
  },
  {
   "cell_type": "code",
   "execution_count": 19,
   "metadata": {},
   "outputs": [
    {
     "name": "stderr",
     "output_type": "stream",
     "text": [
      "\u001b[1m\u001b[33mWARNING: \u001b[39m\u001b[22m\u001b[33mreplacing docs for 'dostepagoal :: Tuple{Any,Any}' in module 'Main'.\u001b[39m\n",
      "\u001b[1m\u001b[33mWARNING: \u001b[39m\u001b[22m\u001b[33mreplacing docs for 'dostep1goals :: Tuple{Any,Any}' in module 'Main'.\u001b[39m\n",
      "\u001b[1m\u001b[33mWARNING: \u001b[39m\u001b[22m\u001b[33mreplacing docs for 'dostepagoal1 :: Tuple{Any,Any}' in module 'Main'.\u001b[39m\n",
      "\u001b[1m\u001b[33mWARNING: \u001b[39m\u001b[22m\u001b[33mreplacing docs for 'dostepgoals1 :: Tuple{Any,Any}' in module 'Main'.\u001b[39m\n",
      "\u001b[1m\u001b[33mWARNING: \u001b[39m\u001b[22m\u001b[33mreplacing docs for 'contradictionsof :: Tuple{Any}' in module 'Main'.\u001b[39m\n",
      "\u001b[1m\u001b[33mWARNING: \u001b[39m\u001b[22m\u001b[33mreplacing docs for 'simpleprover :: Tuple{Any,Any,Any}' in module 'Main'.\u001b[39m\n"
     ]
    },
    {
     "data": {
      "text/plain": [
       "repl (generic function with 1 method)"
      ]
     },
     "execution_count": 19,
     "metadata": {},
     "output_type": "execute_result"
    }
   ],
   "source": [
    "# set base of the repository\n",
    "include(\"loadall.jl\")"
   ]
  },
  {
   "cell_type": "code",
   "execution_count": 20,
   "metadata": {},
   "outputs": [
    {
     "name": "stdout",
     "output_type": "stream",
     "text": [
      "readcore fname=data/his001.cnf\n"
     ]
    },
    {
     "data": {
      "text/plain": [
       "CORE(\"data/his001.cnf\", [8], [0], Dict{Any,Any}(Pair{Any,Any}(:L10, LForm2(:L10, :(+(P(a, b))))),Pair{Any,Any}(:L2, LForm2(:L2, :(-(P(x_C2, y_C2))))),Pair{Any,Any}(:L11, LForm2(:L11, :(+(P(b, c))))),Pair{Any,Any}(:L1, LForm2(:L1, :(+(P(e, f))))),Pair{Any,Any}(:L4, LForm2(:L4, :(-(A(X, Z))))),Pair{Any,Any}(:L5, LForm2(:L5, :(+(P(c, d))))),Pair{Any,Any}(:L8, LForm2(:L8, :(-(P(Y, z_C3))))),Pair{Any,Any}(:L6, LForm2(:L6, :(+(P(d, e))))),Pair{Any,Any}(:L9, LForm2(:L9, :(+(A(x_C3, z_C3))))),Pair{Any,Any}(:L3, LForm2(:L3, :(+(A(x_C2, y_C2)))))…), Dict{Any,Any}(Pair{Any,Any}(:C8, VForm2(:C8, Any[])),Pair{Any,Any}(:C2, VForm2(:C2, Symbol[:x_C2, :y_C2])),Pair{Any,Any}(:C1, VForm2(:C1, Symbol[:X, :Z])),Pair{Any,Any}(:C6, VForm2(:C6, Any[])),Pair{Any,Any}(:C7, VForm2(:C7, Any[])),Pair{Any,Any}(:C3, VForm2(:C3, Symbol[:x_C3, :Y, :z_C3])),Pair{Any,Any}(:C4, VForm2(:C4, Any[])),Pair{Any,Any}(:C5, VForm2(:C5, Any[]))), Dict{Any,Any}(Pair{Any,Any}(:C8, Any[:L1]),Pair{Any,Any}(:C2, Any[:L2, :L3]),Pair{Any,Any}(:C1, Any[:L4]),Pair{Any,Any}(:C6, Any[:L5]),Pair{Any,Any}(:C7, Any[:L6]),Pair{Any,Any}(:C3, Any[:L7, :L8, :L9]),Pair{Any,Any}(:C4, Any[:L10]),Pair{Any,Any}(:C5, Any[:L11])), Dict{Any,Any}(Pair{Any,Any}(:L10, :C4),Pair{Any,Any}(:L2, :C2),Pair{Any,Any}(:L11, :C5),Pair{Any,Any}(:L1, :C8),Pair{Any,Any}(:L4, :C1),Pair{Any,Any}(:L5, :C6),Pair{Any,Any}(:L8, :C3),Pair{Any,Any}(:L6, :C7),Pair{Any,Any}(:L9, :C3),Pair{Any,Any}(:L3, :C2)…), Any[:A, :P], Dict{Any,Any}(), Dict{Any,Any}(), Any[])"
      ]
     },
     "execution_count": 20,
     "metadata": {},
     "output_type": "execute_result"
    }
   ],
   "source": [
    "ch=readcore(\"data/his001.cnf\")"
   ]
  },
  {
   "cell_type": "code",
   "execution_count": 21,
   "metadata": {},
   "outputs": [
    {
     "name": "stdout",
     "output_type": "stream",
     "text": [
      "C1:[X,Z]. L4.-(A(X, Z))\n",
      "C2:[x_C2,y_C2]. L2.-(P(x_C2, y_C2)), L3.+(A(x_C2, y_C2))\n",
      "C3:[x_C3,Y,z_C3]. L7.-(A(x_C3, Y)), L8.-(P(Y, z_C3)), L9.+(A(x_C3, z_C3))\n",
      "C4:[]. L10.+(P(a, b))\n",
      "C5:[]. L11.+(P(b, c))\n",
      "C6:[]. L5.+(P(c, d))\n",
      "C7:[]. L6.+(P(d, e))\n",
      "C8:[]. L1.+(P(e, f))\n"
     ]
    }
   ],
   "source": [
    "printclauses(ch)"
   ]
  },
  {
   "cell_type": "code",
   "execution_count": 22,
   "metadata": {},
   "outputs": [
    {
     "name": "stdout",
     "output_type": "stream",
     "text": [
      "name = data/his001.cnf\n",
      "max cid = [8]\n",
      "max rid = [0]\n",
      "core info...\n",
      "vars     = #7:[Z x_C3 y_C2 z_C3 X Y x_C2 ]\n",
      "consts   = #6:[a b f d e c ]\n",
      "funcs    = #0:[]\n",
      "preds    = #2:[P A ]\n",
      "clauses  = #8:[C8,C2,C1,C6,C7,C3,C4,C5]\n",
      "literals = #11:[L10,L2,L11,L1,L4,L5,L8,L6,L9,L3,L7]\n",
      "Proc\n",
      "\n",
      "CDB\n",
      "C8: VForm2(:C8, Any[])\n",
      "C2: VForm2(:C2, Symbol[:x_C2, :y_C2])\n",
      "C1: VForm2(:C1, Symbol[:X, :Z])\n",
      "C6: VForm2(:C6, Any[])\n",
      "C7: VForm2(:C7, Any[])\n",
      "C3: VForm2(:C3, Symbol[:x_C3, :Y, :z_C3])\n",
      "C4: VForm2(:C4, Any[])\n",
      "C5: VForm2(:C5, Any[])\n",
      "\n",
      "LDB\n",
      "L10: +(P(a, b))\n",
      "L2: -(P(x_C2, y_C2))\n",
      "L11: +(P(b, c))\n",
      "L1: +(P(e, f))\n",
      "L4: -(A(X, Z))\n",
      "L5: +(P(c, d))\n",
      "L8: -(P(Y, z_C3))\n",
      "L6: +(P(d, e))\n",
      "L9: +(A(x_C3, z_C3))\n",
      "L3: +(A(x_C2, y_C2))\n",
      "L7: -(A(x_C3, Y))\n",
      "\n",
      "LCMAP\n",
      "L10=>C4\n",
      "L2=>C2\n",
      "L11=>C5\n",
      "L1=>C8\n",
      "L4=>C1\n",
      "L5=>C6\n",
      "L8=>C3\n",
      "L6=>C7\n",
      "L9=>C3\n",
      "L3=>C2\n",
      "L7=>C3\n",
      "\n",
      "CLMAP\n",
      "C8=>Any[:L1]\n",
      "C2=>Any[:L2, :L3]\n",
      "C1=>Any[:L4]\n",
      "C6=>Any[:L5]\n",
      "C7=>Any[:L6]\n",
      "C3=>Any[:L7, :L8, :L9]\n",
      "C4=>Any[:L10]\n",
      "C5=>Any[:L11]\n",
      "\n",
      "TEMPLATE(level0)\n",
      "\n",
      "PROOFS\n",
      "\n",
      "-- end of core --\n"
     ]
    }
   ],
   "source": [
    "printcore(ch)"
   ]
  },
  {
   "cell_type": "markdown",
   "metadata": {},
   "source": [
    "## Static analysis"
   ]
  },
  {
   "cell_type": "code",
   "execution_count": 23,
   "metadata": {},
   "outputs": [
    {
     "name": "stdout",
     "output_type": "stream",
     "text": [
      "---\n",
      " <L9:+(A(x_C3, z_C3)); L4:-(A(X, Z))>\n",
      "x_C3/X,z_C3/Z\n",
      "---\n",
      "*<L9:+(A(x_C3, z_C3)); L7:-(A(x_C3, Y))>\n",
      "z_C3/Y,z_C3/Y\n",
      "---\n",
      " <L3:+(A(x_C2, y_C2)); L4:-(A(X, Z))>\n",
      "x_C2/X,y_C2/Z\n",
      "---\n",
      " <L3:+(A(x_C2, y_C2)); L7:-(A(x_C3, Y))>\n",
      "x_C2/x_C3,y_C2/Y\n",
      "---\n",
      " <L10:+(P(a, b)); L2:-(P(x_C2, y_C2))>\n",
      "x_C2/a,y_C2/b\n",
      "---\n",
      " <L10:+(P(a, b)); L8:-(P(Y, z_C3))>\n",
      "Y/a,z_C3/b\n",
      "---\n",
      " <L11:+(P(b, c)); L2:-(P(x_C2, y_C2))>\n",
      "x_C2/b,y_C2/c\n",
      "---\n",
      " <L11:+(P(b, c)); L8:-(P(Y, z_C3))>\n",
      "Y/b,z_C3/c\n",
      "---\n",
      " <L1:+(P(e, f)); L2:-(P(x_C2, y_C2))>\n",
      "x_C2/e,y_C2/f\n",
      "---\n",
      " <L1:+(P(e, f)); L8:-(P(Y, z_C3))>\n",
      "Y/e,z_C3/f\n",
      "---\n",
      " <L5:+(P(c, d)); L2:-(P(x_C2, y_C2))>\n",
      "x_C2/c,y_C2/d\n",
      "---\n",
      " <L5:+(P(c, d)); L8:-(P(Y, z_C3))>\n",
      "Y/c,z_C3/d\n",
      "---\n",
      " <L6:+(P(d, e)); L2:-(P(x_C2, y_C2))>\n",
      "x_C2/d,y_C2/e\n",
      "---\n",
      " <L6:+(P(d, e)); L8:-(P(Y, z_C3))>\n",
      "Y/d,z_C3/e\n"
     ]
    }
   ],
   "source": [
    "# initial pairs\n",
    "cch, mch=pairmakefromcore(ch)\n",
    "printpvms(mch, cch)"
   ]
  },
  {
   "cell_type": "code",
   "execution_count": 24,
   "metadata": {},
   "outputs": [
    {
     "name": "stdout",
     "output_type": "stream",
     "text": [
      "readcore fname=data/his001.cnf\n",
      "Array{Any,1}[Any[:L4]] => Any[Any[:L7_R1, :L8_R1], Any[:L2_R2]]\n",
      "Any[Any[:L7_R1, :L8_R1], Any[:L2_R2]] => Any[Any[:L8_R3, :L7_R3, :L8_R3], Any[:L8_R4, :L2_R4], Any[], Any[], Any[], Any[], Any[]]\n",
      "FAIL = ICMP(:a, :b, :unify0ss)\n",
      "FAIL = ICMP(:b, :c, :unify0ss)\n",
      "FAIL = ICMP(:e, :f, :unify0ss)\n",
      "FAIL = ICMP(:c, :d, :unify0ss)\n",
      "FAIL = ICMP(:d, :e, :unify0ss)\n",
      "Any[Any[:L8_R3, :L7_R3, :L8_R3], Any[:L8_R4, :L2_R4], Any[], Any[], Any[], Any[], Any[]] => Any[Any[:L8_R10, :L7_R10, :L8_R10], Any[:L8_R11, :L2_R11], Any[:L2_R12], Any[:L2_R13], Any[:L2_R14], Any[:L2_R15], Any[:L2_R16]]\n",
      "FAIL = ICMP(:a, :b, :unify0ss)\n",
      "FAIL = ICMP(:b, :c, :unify0ss)\n",
      "FAIL = ICMP(:e, :f, :unify0ss)\n",
      "FAIL = ICMP(:c, :d, :unify0ss)\n",
      "FAIL = ICMP(:d, :e, :unify0ss)\n",
      "FAIL = ICMP(:a, :b, :unify0ss)\n",
      "FAIL = ICMP(:a, :c, :unify0ss)\n",
      "FAIL = ICMP(:a, :f, :unify0ss)\n",
      "FAIL = ICMP(:a, :d, :unify0ss)\n",
      "FAIL = ICMP(:a, :e, :unify0ss)\n",
      "FAIL = ICMP(:b, :c, :unify0ss)\n",
      "FAIL = ICMP(:b, :f, :unify0ss)\n",
      "FAIL = ICMP(:b, :d, :unify0ss)\n",
      "FAIL = ICMP(:b, :e, :unify0ss)\n",
      "FAIL = ICMP(:e, :b, :unify0ss)\n",
      "FAIL = ICMP(:e, :c, :unify0ss)\n",
      "FAIL = ICMP(:e, :f, :unify0ss)\n",
      "FAIL = ICMP(:e, :d, :unify0ss)\n",
      "FAIL = ICMP(:c, :b, :unify0ss)\n",
      "FAIL = ICMP(:c, :f, :unify0ss)\n",
      "FAIL = ICMP(:c, :d, :unify0ss)\n",
      "FAIL = ICMP(:c, :e, :unify0ss)\n",
      "FAIL = ICMP(:d, :b, :unify0ss)\n",
      "FAIL = ICMP(:d, :c, :unify0ss)\n",
      "FAIL = ICMP(:d, :f, :unify0ss)\n",
      "FAIL = ICMP(:d, :e, :unify0ss)\n",
      "Any[Any[:L8_R10, :L7_R10, :L8_R10], Any[:L8_R11, :L2_R11], Any[:L2_R12], Any[:L2_R13], Any[:L2_R14], Any[:L2_R15], Any[:L2_R16]] => Any[Any[:L7_R17], Any[:L7_R18], Any[:L7_R19], Any[:L7_R20], Any[:L7_R21], Any[:L8_R22], Any[:L8_R23], Any[:L8_R24], Any[:L8_R25], Any[:L8_R26], Any[], Any[], Any[], Any[]]\n",
      "FAIL = ICMP(:b, :c, :unify0ss)\n",
      "FAIL = ICMP(:b, :c, :unify0ss)\n",
      "FAIL = ICMP(:b, :a, :unify0ss)\n",
      "FAIL = ICMP(:b, :e, :unify0ss)\n",
      "FAIL = ICMP(:b, :d, :unify0ss)\n",
      "FAIL = ICMP(:c, :b, :unify0ss)\n",
      "FAIL = ICMP(:c, :d, :unify0ss)\n",
      "FAIL = ICMP(:c, :a, :unify0ss)\n",
      "FAIL = ICMP(:c, :e, :unify0ss)\n",
      "FAIL = ICMP(:c, :d, :unify0ss)\n",
      "FAIL = ICMP(:f, :b, :unify0ss)\n",
      "FAIL = ICMP(:f, :c, :unify0ss)\n",
      "FAIL = ICMP(:f, :a, :unify0ss)\n",
      "FAIL = ICMP(:f, :e, :unify0ss)\n",
      "FAIL = ICMP(:f, :d, :unify0ss)\n",
      "FAIL = ICMP(:d, :b, :unify0ss)\n",
      "FAIL = ICMP(:d, :c, :unify0ss)\n",
      "FAIL = ICMP(:d, :a, :unify0ss)\n",
      "FAIL = ICMP(:d, :e, :unify0ss)\n",
      "FAIL = ICMP(:d, :e, :unify0ss)\n",
      "FAIL = ICMP(:e, :b, :unify0ss)\n",
      "FAIL = ICMP(:e, :c, :unify0ss)\n",
      "FAIL = ICMP(:e, :a, :unify0ss)\n",
      "FAIL = ICMP(:e, :f, :unify0ss)\n",
      "FAIL = ICMP(:e, :d, :unify0ss)\n",
      "Any[Any[:L7_R17], Any[:L7_R18], Any[:L7_R19], Any[:L7_R20], Any[:L7_R21], Any[:L8_R22], Any[:L8_R23], Any[:L8_R24], Any[:L8_R25], Any[:L8_R26], Any[], Any[], Any[], Any[]] => Any[Any[:L7_R31, :L8_R31], Any[:L2_R32], Any[:L7_R33, :L8_R33], Any[:L2_R34], Any[:L7_R35, :L8_R35], Any[:L2_R36], Any[:L7_R37, :L8_R37], Any[:L2_R38], Any[:L7_R39, :L8_R39], Any[:L2_R40]]\n",
      "FAIL = ICMP(:a, :c, :unify0ss)\n",
      "FAIL = ICMP(:a, :d, :unify0ss)\n",
      "FAIL = ICMP(:a, :b, :unify0ss)\n",
      "FAIL = ICMP(:a, :f, :unify0ss)\n",
      "FAIL = ICMP(:a, :e, :unify0ss)\n",
      "FAIL = ICMP(:b, :c, :unify0ss)\n",
      "FAIL = ICMP(:b, :d, :unify0ss)\n",
      "FAIL = ICMP(:b, :f, :unify0ss)\n",
      "FAIL = ICMP(:b, :e, :unify0ss)\n",
      "FAIL = ICMP(:e, :c, :unify0ss)\n",
      "FAIL = ICMP(:e, :d, :unify0ss)\n",
      "FAIL = ICMP(:e, :b, :unify0ss)\n",
      "FAIL = ICMP(:e, :f, :unify0ss)\n",
      "FAIL = ICMP(:c, :d, :unify0ss)\n",
      "FAIL = ICMP(:c, :b, :unify0ss)\n",
      "FAIL = ICMP(:c, :f, :unify0ss)\n",
      "FAIL = ICMP(:c, :e, :unify0ss)\n",
      "FAIL = ICMP(:d, :c, :unify0ss)\n",
      "FAIL = ICMP(:d, :b, :unify0ss)\n",
      "FAIL = ICMP(:d, :f, :unify0ss)\n",
      "FAIL = ICMP(:d, :e, :unify0ss)\n",
      "Any[Any[:L7_R31, :L8_R31], Any[:L2_R32], Any[:L7_R33, :L8_R33], Any[:L2_R34], Any[:L7_R35, :L8_R35], Any[:L2_R36], Any[:L7_R37, :L8_R37], Any[:L2_R38], Any[:L7_R39, :L8_R39], Any[:L2_R40]] => Any[Any[:L8_R41, :L7_R41, :L8_R41], Any[:L8_R42, :L2_R42], Any[:L8_R43, :L7_R43, :L8_R43], Any[:L8_R44, :L2_R44], Any[], Any[:L8_R46, :L7_R46, :L8_R46], Any[:L8_R47, :L2_R47], Any[], Any[:L8_R49, :L7_R49, :L8_R49], Any[:L8_R50, :L2_R50], Any[], Any[:L8_R52, :L7_R52, :L8_R52], Any[:L8_R53, :L2_R53], Any[]]\n",
      "FAIL = ICMP(:b, :c, :unify0ss)\n",
      "FAIL = ICMP(:c, :d, :unify0ss)\n",
      "FAIL = ICMP(:a, :b, :unify0ss)\n",
      "FAIL = ICMP(:e, :f, :unify0ss)\n",
      "FAIL = ICMP(:d, :e, :unify0ss)\n",
      "FAIL = ICMP(:a, :c, :unify0ss)\n",
      "FAIL = ICMP(:a, :d, :unify0ss)\n",
      "FAIL = ICMP(:a, :b, :unify0ss)\n",
      "FAIL = ICMP(:a, :f, :unify0ss)\n",
      "FAIL = ICMP(:a, :e, :unify0ss)\n",
      "FAIL = ICMP(:b, :c, :unify0ss)\n",
      "FAIL = ICMP(:c, :d, :unify0ss)\n",
      "FAIL = ICMP(:a, :b, :unify0ss)\n",
      "FAIL = ICMP(:e, :f, :unify0ss)\n",
      "FAIL = ICMP(:d, :e, :unify0ss)\n",
      "FAIL = ICMP(:b, :c, :unify0ss)\n",
      "FAIL = ICMP(:b, :d, :unify0ss)\n",
      "FAIL = ICMP(:b, :f, :unify0ss)\n",
      "FAIL = ICMP(:b, :e, :unify0ss)\n",
      "FAIL = ICMP(:b, :c, :unify0ss)\n",
      "FAIL = ICMP(:c, :d, :unify0ss)\n",
      "FAIL = ICMP(:a, :b, :unify0ss)\n",
      "FAIL = ICMP(:e, :f, :unify0ss)\n",
      "FAIL = ICMP(:d, :e, :unify0ss)\n",
      "FAIL = ICMP(:e, :c, :unify0ss)\n",
      "FAIL = ICMP(:e, :d, :unify0ss)\n",
      "FAIL = ICMP(:e, :b, :unify0ss)\n",
      "FAIL = ICMP(:e, :f, :unify0ss)\n",
      "FAIL = ICMP(:b, :c, :unify0ss)\n",
      "FAIL = ICMP(:c, :d, :unify0ss)\n",
      "FAIL = ICMP(:a, :b, :unify0ss)\n",
      "FAIL = ICMP(:e, :f, :unify0ss)\n",
      "FAIL = ICMP(:d, :e, :unify0ss)\n",
      "FAIL = ICMP(:c, :d, :unify0ss)\n",
      "FAIL = ICMP(:c, :b, :unify0ss)\n",
      "FAIL = ICMP(:c, :f, :unify0ss)\n",
      "FAIL = ICMP(:c, :e, :unify0ss)\n",
      "FAIL = ICMP(:b, :c, :unify0ss)\n",
      "FAIL = ICMP(:c, :d, :unify0ss)\n",
      "FAIL = ICMP(:a, :b, :unify0ss)\n",
      "FAIL = ICMP(:e, :f, :unify0ss)\n",
      "FAIL = ICMP(:d, :e, :unify0ss)\n",
      "FAIL = ICMP(:d, :c, :unify0ss)\n",
      "FAIL = ICMP(:d, :b, :unify0ss)\n",
      "FAIL = ICMP(:d, :f, :unify0ss)\n",
      "FAIL = ICMP(:d, :e, :unify0ss)\n",
      "Any[Any[:L8_R41, :L7_R41, :L8_R41], Any[:L8_R42, :L2_R42], Any[:L8_R43, :L7_R43, :L8_R43], Any[:L8_R44, :L2_R44], Any[], Any[:L8_R46, :L7_R46, :L8_R46], Any[:L8_R47, :L2_R47], Any[], Any[:L8_R49, :L7_R49, :L8_R49], Any[:L8_R50, :L2_R50], Any[], Any[:L8_R52, :L7_R52, :L8_R52], Any[:L8_R53, :L2_R53], Any[]] => Any[Any[:L8_R55, :L7_R55, :L8_R55], Any[:L8_R56, :L2_R56], Any[:L8_R57], Any[:L8_R58], Any[:L8_R59], Any[:L8_R60], Any[:L8_R61], Any[:L8_R62, :L7_R62, :L8_R62], Any[:L8_R63, :L2_R63], Any[:L2_R64], Any[:L8_R65, :L7_R65, :L8_R65], Any[:L8_R66, :L2_R66], Any[:L2_R67], Any[:L8_R68, :L7_R68, :L8_R68], Any[:L8_R69, :L2_R69], Any[:L2_R70], Any[:L8_R71, :L7_R71, :L8_R71], Any[:L8_R72, :L2_R72], Any[:L2_R73]]\n",
      "FAIL = ICMP(:b, :c, :unify0ss)\n",
      "FAIL = ICMP(:c, :d, :unify0ss)\n",
      "FAIL = ICMP(:a, :b, :unify0ss)\n",
      "FAIL = ICMP(:e, :f, :unify0ss)\n",
      "FAIL = ICMP(:d, :e, :unify0ss)\n",
      "FAIL = ICMP(:c, :b, :unify0ss)\n",
      "FAIL = ICMP(:a, :d, :unify0ss)\n",
      "FAIL = ICMP(:c, :a, :unify0ss)\n",
      "FAIL = ICMP(:c, :e, :unify0ss)\n",
      "FAIL = ICMP(:c, :d, :unify0ss)\n",
      "FAIL = ICMP(:d, :b, :unify0ss)\n",
      "FAIL = ICMP(:d, :c, :unify0ss)\n",
      "FAIL = ICMP(:d, :a, :unify0ss)\n",
      "FAIL = ICMP(:d, :e, :unify0ss)\n",
      "FAIL = ICMP(:a, :e, :unify0ss)\n",
      "FAIL = ICMP(:a, :c, :unify0ss)\n",
      "FAIL = ICMP(:b, :c, :unify0ss)\n",
      "FAIL = ICMP(:b, :a, :unify0ss)\n",
      "FAIL = ICMP(:b, :e, :unify0ss)\n",
      "FAIL = ICMP(:b, :d, :unify0ss)\n",
      "FAIL = ICMP(:f, :b, :unify0ss)\n",
      "FAIL = ICMP(:f, :c, :unify0ss)\n",
      "FAIL = ICMP(:f, :a, :unify0ss)\n",
      "FAIL = ICMP(:f, :e, :unify0ss)\n",
      "FAIL = ICMP(:f, :d, :unify0ss)\n",
      "FAIL = ICMP(:e, :b, :unify0ss)\n",
      "FAIL = ICMP(:e, :c, :unify0ss)\n",
      "FAIL = ICMP(:e, :a, :unify0ss)\n",
      "FAIL = ICMP(:a, :f, :unify0ss)\n",
      "FAIL = ICMP(:e, :d, :unify0ss)\n",
      "FAIL = ICMP(:b, :c, :unify0ss)\n",
      "FAIL = ICMP(:c, :d, :unify0ss)\n",
      "FAIL = ICMP(:a, :b, :unify0ss)\n",
      "FAIL = ICMP(:e, :f, :unify0ss)\n",
      "FAIL = ICMP(:d, :e, :unify0ss)\n",
      "FAIL = ICMP(:a, :c, :unify0ss)\n",
      "FAIL = ICMP(:a, :d, :unify0ss)\n",
      "FAIL = ICMP(:a, :b, :unify0ss)\n",
      "FAIL = ICMP(:a, :f, :unify0ss)\n",
      "FAIL = ICMP(:a, :e, :unify0ss)\n",
      "FAIL = ICMP(:b, :c, :unify0ss)\n",
      "FAIL = ICMP(:c, :d, :unify0ss)\n",
      "FAIL = ICMP(:a, :b, :unify0ss)\n",
      "FAIL = ICMP(:e, :f, :unify0ss)\n",
      "FAIL = ICMP(:d, :e, :unify0ss)\n",
      "FAIL = ICMP(:d, :c, :unify0ss)\n",
      "FAIL = ICMP(:d, :b, :unify0ss)\n",
      "FAIL = ICMP(:d, :f, :unify0ss)\n",
      "FAIL = ICMP(:d, :e, :unify0ss)\n",
      "FAIL = ICMP(:b, :c, :unify0ss)\n",
      "FAIL = ICMP(:c, :d, :unify0ss)\n",
      "FAIL = ICMP(:a, :b, :unify0ss)\n",
      "FAIL = ICMP(:e, :f, :unify0ss)\n",
      "FAIL = ICMP(:d, :e, :unify0ss)\n",
      "FAIL = ICMP(:b, :c, :unify0ss)\n",
      "FAIL = ICMP(:b, :d, :unify0ss)\n",
      "FAIL = ICMP(:b, :f, :unify0ss)\n",
      "FAIL = ICMP(:b, :e, :unify0ss)\n",
      "FAIL = ICMP(:b, :c, :unify0ss)\n",
      "FAIL = ICMP(:c, :d, :unify0ss)\n",
      "FAIL = ICMP(:a, :b, :unify0ss)\n",
      "FAIL = ICMP(:e, :f, :unify0ss)\n",
      "FAIL = ICMP(:d, :e, :unify0ss)\n",
      "FAIL = ICMP(:c, :d, :unify0ss)\n",
      "FAIL = ICMP(:c, :b, :unify0ss)\n",
      "FAIL = ICMP(:c, :f, :unify0ss)\n",
      "FAIL = ICMP(:c, :e, :unify0ss)\n",
      "Any[Any[:L8_R55, :L7_R55, :L8_R55], Any[:L8_R56, :L2_R56], Any[:L8_R57], Any[:L8_R58], Any[:L8_R59], Any[:L8_R60], Any[:L8_R61], Any[:L8_R62, :L7_R62, :L8_R62], Any[:L8_R63, :L2_R63], Any[:L2_R64], Any[:L8_R65, :L7_R65, :L8_R65], Any[:L8_R66, :L2_R66], Any[:L2_R67], Any[:L8_R68, :L7_R68, :L8_R68], Any[:L8_R69, :L2_R69], Any[:L2_R70], Any[:L8_R71, :L7_R71, :L8_R71], Any[:L8_R72, :L2_R72], Any[:L2_R73]] => Any[Any[:L7_R74], Any[:L7_R75], Any[:L7_R76], Any[:L7_R77], Any[:L7_R78], Any[:L8_R79], Any[:L8_R80], Any[:L8_R81], Any[:L8_R82], Any[:L8_R83], Any[:L7_R84], Any[:L7_R85], Any[:L7_R86], Any[:L7_R87], Any[:L7_R88], Any[:L8_R89], Any[:L8_R90], Any[:L8_R91], Any[:L8_R92], Any[:L8_R93], Any[:L7_R94], Any[:L7_R95], Any[:L7_R96], Any[:L7_R97], Any[:L7_R98], Any[:L8_R99], Any[:L8_R100], Any[:L8_R101], Any[:L8_R102], Any[:L8_R103], Any[], Any[:L7_R105], Any[:L7_R106], Any[:L7_R107], Any[:L7_R108], Any[:L7_R109], Any[:L8_R110], Any[:L8_R111], Any[:L8_R112], Any[:L8_R113], Any[:L8_R114], Any[], Any[:L7_R116], Any[:L7_R117], Any[:L7_R118], Any[:L7_R119], Any[:L7_R120], Any[:L8_R121], Any[:L8_R122], Any[:L8_R123], Any[:L8_R124], Any[:L8_R125], Any[]]\n"
     ]
    },
    {
     "data": {
      "text/plain": [
       "(Any[:R45, :R48, :R30, :R29, :R7, :R9, :R104, :R51, :R8, :R115, :R28, :R54, :R5, :R126, :R6, :R27], CORE(\"data/his001.cnf\", [8], [126], Dict{Any,Any}(Pair{Any,Any}(:L8_R1, LForm2(:L8_R1, :(-(P(Y, z_C3R1))))),Pair{Any,Any}(:L2_R16, LForm2(:L2_R16, :(-(P(x_C2R4R16, d))))),Pair{Any,Any}(:L2, LForm2(:L2, :(-(P(x_C2, y_C2))))),Pair{Any,Any}(:L11, LForm2(:L11, :(+(P(b, c))))),Pair{Any,Any}(:L8_R11, LForm2(:L8_R11, :(-(P(y_C2R11, y_C2R11))))),Pair{Any,Any}(:L7_R1, LForm2(:L7_R1, :(-(A(x_C3R1, Y))))),Pair{Any,Any}(:L7_R31, LForm2(:L7_R31, :(-(A(x_C3R31, Y))))),Pair{Any,Any}(:L8_R61, LForm2(:L8_R61, :(-(P(e, a))))),Pair{Any,Any}(:L8_R72, LForm2(:L8_R72, :(-(P(y_C2R72, y_C2R72))))),Pair{Any,Any}(:L8_R100, LForm2(:L8_R100, :(-(P(d, d)))))…), Dict{Any,Any}(Pair{Any,Any}(:R97, VForm2(:R97, Symbol[:x_C3R65R97, :Y])),Pair{Any,Any}(:R13, VForm2(:R13, Symbol[:x_C2R4R13, :y_C2R4R13])),Pair{Any,Any}(:R65, VForm2(:R65, Symbol[:z_C3R46R65, :x_C3R65, :Y, :z_C3R65])),Pair{Any,Any}(:R25, VForm2(:R25, Symbol[:y_C2R11R25])),Pair{Any,Any}(:R42, VForm2(:R42, Symbol[:Y, :x_C2R42, :y_C2R42])),Pair{Any,Any}(:R89, VForm2(:R89, Symbol[:y_C2R63R89])),Pair{Any,Any}(:R119, VForm2(:R119, Symbol[:x_C3R71R119, :Y])),Pair{Any,Any}(:R82, VForm2(:R82, Symbol[:y_C2R56R82])),Pair{Any,Any}(:R76, VForm2(:R76, Symbol[:x_C3R55R76, :Y])),Pair{Any,Any}(:R45, VForm2(:R45, Any[]))…), Dict{Any,Any}(Pair{Any,Any}(:R97, Any[:L7_R97]),Pair{Any,Any}(:R13, Any[:L2_R13]),Pair{Any,Any}(:R65, Any[:L8_R65, :L7_R65, :L8_R65]),Pair{Any,Any}(:R25, Any[:L8_R25]),Pair{Any,Any}(:R42, Any[:L8_R42, :L2_R42]),Pair{Any,Any}(:R89, Any[:L8_R89]),Pair{Any,Any}(:R119, Any[:L7_R119]),Pair{Any,Any}(:R82, Any[:L8_R82]),Pair{Any,Any}(:R76, Any[:L7_R76]),Pair{Any,Any}(:R45, Any[])…), Dict{Any,Any}(Pair{Any,Any}(:L8_R1, :R1),Pair{Any,Any}(:L2_R16, :R16),Pair{Any,Any}(:L2, :C2),Pair{Any,Any}(:L11, :C5),Pair{Any,Any}(:L8_R11, :R11),Pair{Any,Any}(:L7_R1, :R1),Pair{Any,Any}(:L7_R31, :R31),Pair{Any,Any}(:L8_R61, :R61),Pair{Any,Any}(:L8_R72, :R72),Pair{Any,Any}(:L8_R100, :R100)…), Any[:A, :P], Dict{Any,Any}(Pair{Any,Any}(Symbol(\"-P\"), Any[Any[:C5, Any[], :L11, Any[]], Any[:C6, Any[], :L5, Any[]], Any[:C4, Any[], :L10, Any[]], Any[:C8, Any[], :L1, Any[]], Any[:C7, Any[], :L6, Any[]]]),Pair{Any,Any}(Symbol(\"+P\"), Any[Any[:C2, Symbol[:x_C2, :y_C2], :L2, Any[:L3]], Any[:C3, Symbol[:x_C3, :Y, :z_C3], :L8, Any[:L7, :L9]]]),Pair{Any,Any}(Symbol(\"-A\"), Any[Any[:C3, Symbol[:x_C3, :Y, :z_C3], :L9, Any[:L7, :L8]], Any[:C2, Symbol[:x_C2, :y_C2], :L3, Any[:L2]]]),Pair{Any,Any}(Symbol(\"+A\"), Any[Any[:C1, Symbol[:X, :Z], :L4, Any[]], Any[:C3, Symbol[:x_C3, :Y, :z_C3], :L7, Any[:L8, :L9]]])), Dict{Any,Any}(Pair{Any,Any}(:R97, STEP(:R97, :L8_R65, :L1, Symbol[:z_C3R46R65, :x_C3R65, :e, :f], Array{Any,1}[Any[:x_C3R65, :Y], Any[:x_C3R65R97, :Y]])),Pair{Any,Any}(:R13, STEP(:R13, :L8_R4, :L11, Symbol[:Y, :c, :x_C2R4, :b], Array{Any,1}[Any[:x_C2R4, :y_C2R4], Any[:x_C2R4R13, :y_C2R4R13]])),Pair{Any,Any}(:R65, STEP(:R65, :L7_R46, :L9, Symbol[:Y, :x_C3, :z_C3, :x_C3, :Y, :z_C3], Array{Any,1}[Any[:z_C3R46, :x_C3, :Y, :z_C3], Any[:z_C3R46R65, :x_C3R65, :Y, :z_C3R65]])),Pair{Any,Any}(:R25, STEP(:R25, :L2_R11, :L5, Symbol[:z_C3R3R11, :c, :d], Array{Any,1}[Any[:y_C2R11], Any[:y_C2R11R25]])),Pair{Any,Any}(:R42, STEP(:R42, :L7_R31, :L3, Symbol[:x_C2, :y_C2, :z_C3R31, :x_C2, :y_C2], Array{Any,1}[Any[:Y, :x_C2, :y_C2], Any[:Y, :x_C2R42, :y_C2R42]])),Pair{Any,Any}(:R89, STEP(:R89, :L2_R63, :L11, Symbol[:z_C3R43R63, :b, :c], Array{Any,1}[Any[:y_C2R63], Any[:y_C2R63R89]])),Pair{Any,Any}(:R119, STEP(:R119, :L8_R71, :L1, Symbol[:z_C3R52R71, :x_C3R71, :e, :f], Array{Any,1}[Any[:x_C3R71, :Y], Any[:x_C3R71R119, :Y]])),Pair{Any,Any}(:R82, STEP(:R82, :L2_R56, :L1, Symbol[:z_C3R41R56, :e, :f], Array{Any,1}[Any[:y_C2R56], Any[:y_C2R56R82]])),Pair{Any,Any}(:R76, STEP(:R76, :L8_R55, :L10, Symbol[:z_C3R41R55, :x_C3R55, :a, :b], Array{Any,1}[Any[:x_C3R55, :Y], Any[:x_C3R55R76, :Y]])),Pair{Any,Any}(:R45, STEP(:R45, :L2_R34, :L10, Symbol[:a, :y_C2R34], Array{Any,1}[Any[], Any[]]))…), Any[]))"
      ]
     },
     "execution_count": 24,
     "metadata": {},
     "output_type": "execute_result"
    }
   ],
   "source": [
    "# proving1 and dynamic analysis\n",
    "rhis001,chis001=simpleprover(\"data/his001.cnf\",10,15)"
   ]
  },
  {
   "cell_type": "code",
   "execution_count": 25,
   "metadata": {},
   "outputs": [
    {
     "name": "stdout",
     "output_type": "stream",
     "text": [
      "R1=<C1:C3>\n",
      "R3=<R1:C3>\n",
      "R10=<R3:C3>\n",
      "R19=<R10:C8>\n",
      "R35=<R19:C3>\n",
      "R47=<R35:C2>\n",
      "R67=<R47:C7>\n",
      "R104=<R67:C6>\n",
      "\n",
      "---\n",
      "R1=<C1:C3>\n",
      "R3=<R1:C3>\n",
      "R10=<R3:C3>\n",
      "R20=<R10:C6>\n",
      "R37=<R20:C3>\n",
      "R50=<R37:C2>\n",
      "R70=<R50:C5>\n",
      "R115=<R70:C4>\n",
      "\n",
      "---\n",
      "R1=<C1:C3>\n",
      "R3=<R1:C3>\n",
      "R10=<R3:C3>\n",
      "R21=<R10:C7>\n",
      "R39=<R21:C3>\n",
      "R53=<R39:C2>\n",
      "R73=<R53:C6>\n",
      "R126=<R73:C5>\n",
      "\n",
      "---\n",
      "R1=<C1:C3>\n",
      "R4=<R1:C2>\n",
      "R13=<R4:C5>\n",
      "R27=<R13:C4>\n",
      "\n",
      "---\n",
      "R1=<C1:C3>\n",
      "R4=<R1:C2>\n",
      "R14=<R4:C8>\n",
      "R28=<R14:C7>\n",
      "\n",
      "---\n",
      "R1=<C1:C3>\n",
      "R4=<R1:C2>\n",
      "R15=<R4:C6>\n",
      "R29=<R15:C5>\n",
      "\n",
      "---\n",
      "R1=<C1:C3>\n",
      "R4=<R1:C2>\n",
      "R16=<R4:C7>\n",
      "R30=<R16:C6>\n",
      "\n",
      "---\n",
      "R1=<C1:C3>\n",
      "R3=<R1:C3>\n",
      "R10=<R3:C3>\n",
      "R18=<R10:C5>\n",
      "R34=<R18:C2>\n",
      "R45=<R34:C4>\n",
      "\n",
      "---\n",
      "R1=<C1:C3>\n",
      "R3=<R1:C3>\n",
      "R10=<R3:C3>\n",
      "R19=<R10:C8>\n",
      "R36=<R19:C2>\n",
      "R48=<R36:C7>\n",
      "\n",
      "---\n",
      "R2=<C1:C2>\n",
      "R5=<R2:C4>\n",
      "\n",
      "---\n",
      "R1=<C1:C3>\n",
      "R3=<R1:C3>\n",
      "R10=<R3:C3>\n",
      "R20=<R10:C6>\n",
      "R38=<R20:C2>\n",
      "R51=<R38:C5>\n",
      "\n",
      "---\n",
      "R1=<C1:C3>\n",
      "R3=<R1:C3>\n",
      "R10=<R3:C3>\n",
      "R21=<R10:C7>\n",
      "R40=<R21:C2>\n",
      "R54=<R40:C6>\n",
      "\n",
      "---\n",
      "R2=<C1:C2>\n",
      "R6=<R2:C5>\n",
      "\n",
      "---\n",
      "R2=<C1:C2>\n",
      "R7=<R2:C8>\n",
      "\n",
      "---\n",
      "R2=<C1:C2>\n",
      "R8=<R2:C6>\n",
      "\n",
      "---\n",
      "R2=<C1:C2>\n",
      "R9=<R2:C7>\n",
      "\n",
      "---\n"
     ]
    }
   ],
   "source": [
    "# prop level proofs\n",
    "printproofs0(chis001)"
   ]
  },
  {
   "cell_type": "code",
   "execution_count": 26,
   "metadata": {},
   "outputs": [
    {
     "data": {
      "text/plain": [
       "16-element Array{Any,1}:\n",
       " :R45 \n",
       " :R48 \n",
       " :R30 \n",
       " :R29 \n",
       " :R7  \n",
       " :R9  \n",
       " :R104\n",
       " :R51 \n",
       " :R8  \n",
       " :R115\n",
       " :R28 \n",
       " :R54 \n",
       " :R5  \n",
       " :R126\n",
       " :R6  \n",
       " :R27 "
      ]
     },
     "execution_count": 26,
     "metadata": {},
     "output_type": "execute_result"
    }
   ],
   "source": [
    "# R45 is contradiction from the proofs or\n",
    "contradictionsof(chis001)"
   ]
  },
  {
   "cell_type": "code",
   "execution_count": 27,
   "metadata": {},
   "outputs": [
    {
     "name": "stdout",
     "output_type": "stream",
     "text": [
      "R45:[].□"
     ]
    }
   ],
   "source": [
    "printclause(:R45, chis001)"
   ]
  },
  {
   "cell_type": "code",
   "execution_count": 28,
   "metadata": {},
   "outputs": [
    {
     "name": "stdout",
     "output_type": "stream",
     "text": [
      "\n",
      "  <L4:L9>=X/x;Z/z;\n",
      "  <L7_R1:L9>=Y/z;Y/z;\n",
      "  <L7_R3:L9>=\n",
      "  <L8_R10:L11>=Y/b;z/c;\n",
      "  <L7_R18:L3>=y/b;\n",
      "  <L2_R34:L10>=x/a;\n",
      "---\n",
      "\n",
      "  <L4:L9>=X/x;Z/z;\n",
      "  <L7_R1:L9>=Y/z;Y/z;\n",
      "  <L7_R3:L9>=\n",
      "  <L8_R10:L1>=Y/e;z/f;\n",
      "  <L7_R19:L3>=y/e;\n",
      "  <L2_R36:L6>=x/d;\n",
      "---\n",
      "\n",
      "  <L4:L9>=X/x;Z/z;\n",
      "  <L7_R1:L3>=Y/y;\n",
      "  <L8_R4:L6>=z/e;y/d;\n",
      "  <L2_R16:L5>=x/c;\n",
      "---\n",
      "\n",
      "  <L4:L9>=X/x;Z/z;\n",
      "  <L7_R1:L3>=Y/y;\n",
      "  <L8_R4:L5>=z/d;y/c;\n",
      "  <L2_R15:L11>=x/b;\n",
      "---\n",
      "\n",
      "  <L4:L3>=X/x;Z/y;\n",
      "  <L2_R2:L1>=x/e;y/f;\n",
      "---\n",
      "\n",
      "  <L4:L3>=X/x;Z/y;\n",
      "  <L2_R2:L6>=x/d;y/e;\n",
      "---\n",
      "\n",
      "  <L4:L9>=X/x;Z/z;\n",
      "  <L7_R1:L9>=Y/z;Y/z;\n",
      "  <L7_R3:L9>=\n",
      "  <L8_R10:L1>=Y/e;z/f;\n",
      "  <L7_R19:L9>=z/e;\n",
      "  <L7_R35:L3>=Y/y;\n",
      "  <L8_R47:L6>=y/d;\n",
      "  <L2_R67:L5>=x/c;\n",
      "---\n",
      "\n",
      "  <L4:L9>=X/x;Z/z;\n",
      "  <L7_R1:L9>=Y/z;Y/z;\n",
      "  <L7_R3:L9>=\n",
      "  <L8_R10:L5>=Y/c;z/d;\n",
      "  <L7_R20:L3>=y/c;\n",
      "  <L2_R38:L11>=x/b;\n",
      "---\n",
      "\n",
      "  <L4:L3>=X/x;Z/y;\n",
      "  <L2_R2:L5>=x/c;y/d;\n",
      "---\n",
      "\n",
      "  <L4:L9>=X/x;Z/z;\n",
      "  <L7_R1:L9>=Y/z;Y/z;\n",
      "  <L7_R3:L9>=\n",
      "  <L8_R10:L5>=Y/c;z/d;\n",
      "  <L7_R20:L9>=z/c;\n",
      "  <L7_R37:L3>=Y/y;\n",
      "  <L8_R50:L11>=y/b;\n",
      "  <L2_R70:L10>=x/a;\n",
      "---\n",
      "\n",
      "  <L4:L9>=X/x;Z/z;\n",
      "  <L7_R1:L3>=Y/y;\n",
      "  <L8_R4:L1>=z/f;y/e;\n",
      "  <L2_R14:L6>=x/d;\n",
      "---\n",
      "\n",
      "  <L4:L9>=X/x;Z/z;\n",
      "  <L7_R1:L9>=Y/z;Y/z;\n",
      "  <L7_R3:L9>=\n",
      "  <L8_R10:L6>=Y/d;z/e;\n",
      "  <L7_R21:L3>=y/d;\n",
      "  <L2_R40:L5>=x/c;\n",
      "---\n",
      "\n",
      "  <L4:L3>=X/x;Z/y;\n",
      "  <L2_R2:L10>=x/a;y/b;\n",
      "---\n",
      "\n",
      "  <L4:L9>=X/x;Z/z;\n",
      "  <L7_R1:L9>=Y/z;Y/z;\n",
      "  <L7_R3:L9>=\n",
      "  <L8_R10:L6>=Y/d;z/e;\n",
      "  <L7_R21:L9>=z/d;\n",
      "  <L7_R39:L3>=Y/y;\n",
      "  <L8_R53:L5>=y/c;\n",
      "  <L2_R73:L11>=x/b;\n",
      "---\n",
      "\n",
      "  <L4:L3>=X/x;Z/y;\n",
      "  <L2_R2:L11>=x/b;y/c;\n",
      "---\n",
      "\n",
      "  <L4:L9>=X/x;Z/z;\n",
      "  <L7_R1:L3>=Y/y;\n",
      "  <L8_R4:L11>=z/c;y/b;\n",
      "  <L2_R13:L10>=x/a;\n",
      "---\n"
     ]
    }
   ],
   "source": [
    "# show informations in the all proofs\n",
    "printmgus(chis001)"
   ]
  },
  {
   "cell_type": "code",
   "execution_count": 29,
   "metadata": {},
   "outputs": [
    {
     "data": {
      "text/plain": [
       "0"
      ]
     },
     "execution_count": 29,
     "metadata": {},
     "output_type": "execute_result"
    }
   ],
   "source": [
    "inf = traceof(chis001); 0"
   ]
  },
  {
   "cell_type": "code",
   "execution_count": 30,
   "metadata": {},
   "outputs": [
    {
     "data": {
      "text/plain": [
       "3-element Array{Any,1}:\n",
       " :Z\n",
       " :Y\n",
       " :X"
      ]
     },
     "execution_count": 30,
     "metadata": {},
     "output_type": "execute_result"
    }
   ],
   "source": [
    "inf[1]"
   ]
  },
  {
   "cell_type": "code",
   "execution_count": 31,
   "metadata": {},
   "outputs": [
    {
     "data": {
      "text/plain": [
       "16-element Array{Any,1}:\n",
       " Any[:R45, Symbol[:z_C3R1R3, :c, :a]] \n",
       " Any[:R48, Symbol[:z_C3R1R3, :f, :d]] \n",
       " Any[:R30, Symbol[:e, :d, :c]]        \n",
       " Any[:R29, Symbol[:d, :c, :b]]        \n",
       " Any[:R7, Symbol[:f, :Y, :e]]         \n",
       " Any[:R9, Symbol[:e, :Y, :d]]         \n",
       " Any[:R104, Symbol[:z_C3R1R3, :f, :c]]\n",
       " Any[:R51, Symbol[:z_C3R1R3, :d, :b]] \n",
       " Any[:R8, Symbol[:d, :Y, :c]]         \n",
       " Any[:R115, Symbol[:z_C3R1R3, :d, :a]]\n",
       " Any[:R28, Symbol[:f, :e, :d]]        \n",
       " Any[:R54, Symbol[:z_C3R1R3, :e, :c]] \n",
       " Any[:R5, Symbol[:b, :Y, :a]]         \n",
       " Any[:R126, Symbol[:z_C3R1R3, :e, :b]]\n",
       " Any[:R6, Symbol[:c, :Y, :b]]         \n",
       " Any[:R27, Symbol[:c, :b, :a]]        "
      ]
     },
     "execution_count": 31,
     "metadata": {},
     "output_type": "execute_result"
    }
   ],
   "source": [
    "inf[2]"
   ]
  },
  {
   "cell_type": "code",
   "execution_count": 32,
   "metadata": {},
   "outputs": [],
   "source": [
    "# in R104, Z captured a variable. Non complete info..."
   ]
  },
  {
   "cell_type": "code",
   "execution_count": 33,
   "metadata": {},
   "outputs": [
    {
     "name": "stdout",
     "output_type": "stream",
     "text": [
      "\n",
      "C1:[X,Z]. L4.-(A(X, Z))\n",
      "    VARS: (X,Z)\n",
      "\n",
      "C3:[x_C3,Y,z_C3]. L7.-(A(x_C3, Y)), L8.-(P(Y, z_C3)), L9.+(A(x_C3, z_C3))\n",
      "    VARS: (X,Z)\n",
      "\n",
      "----\n",
      "<L4:L9>\n",
      "   unify:(X,Z,x_C3,Y,z_C3)←(x_C3,z_C3,x_C3,Y,z_C3)\n",
      "    VARS: (x_C3,z_C3)\n",
      "   rename:(x_C3,Y,z_C3)⇦(x_C3R1,Y,z_C3R1)\n",
      "    VARS: (x_C3R1,z_C3R1)\n",
      "R1:[x_C3R1,Y,z_C3R1]. L7_R1.-(A(x_C3R1, Y)), L8_R1.-(P(Y, z_C3R1))\n",
      "    VARS: (x_C3R1,z_C3R1)\n",
      "\n",
      "C3:[x_C3,Y,z_C3]. L7.-(A(x_C3, Y)), L8.-(P(Y, z_C3)), L9.+(A(x_C3, z_C3))\n",
      "    VARS: (x_C3R1,z_C3R1)\n",
      "\n",
      "----\n",
      "<L7_R1:L9>\n",
      "   unify:(x_C3R1,Y,z_C3R1,x_C3,Y,z_C3)←(x_C3,z_C3,z_C3R1,x_C3,z_C3,z_C3)\n",
      "    VARS: (x_C3,z_C3R1)\n",
      "   rename:(Y,z_C3R1,x_C3,z_C3)⇦(Y,z_C3R1R3,x_C3R3,z_C3R3)\n",
      "    VARS: (x_C3R3,z_C3R1R3)\n",
      "R3:[Y,z_C3R1R3,x_C3R3,z_C3R3]. L8_R3.-(P(z_C3R3, z_C3R3)), L7_R3.-(A(x_C3R3, z_C3R3)), L8_R3.-(P(z_C3R3, z_C3R3))\n",
      "    VARS: (x_C3R3,z_C3R1R3)\n",
      "\n",
      "C3:[x_C3,Y,z_C3]. L7.-(A(x_C3, Y)), L8.-(P(Y, z_C3)), L9.+(A(x_C3, z_C3))\n",
      "    VARS: (x_C3R3,z_C3R1R3)\n",
      "\n",
      "----\n",
      "<L7_R3:L9>\n",
      "   unify:(Y,z_C3R1R3,x_C3R3,z_C3R3,x_C3,Y,z_C3)←(Y,z_C3R1R3,x_C3,z_C3,x_C3,Y,z_C3)\n",
      "    VARS: (x_C3,z_C3R1R3)\n",
      "   rename:(z_C3R3,x_C3,Y,z_C3)⇦(z_C3R3R10,x_C3R10,Y,z_C3R10)\n",
      "    VARS: (x_C3R10,z_C3R1R3)\n",
      "R10:[z_C3R3R10,x_C3R10,Y,z_C3R10]. L8_R10.-(P(Y, z_C3R10)), L7_R10.-(A(x_C3R10, Y)), L8_R10.-(P(Y, z_C3R10))\n",
      "    VARS: (x_C3R10,z_C3R1R3)\n",
      "\n",
      "C5:[]. L11.+(P(b, c))\n",
      "    VARS: (x_C3R10,z_C3R1R3)\n",
      "\n",
      "----\n",
      "<L8_R10:L11>\n",
      "   unify:(z_C3R3R10,x_C3R10,Y,z_C3R10)←(z_C3R3R10,x_C3R10,b,c)\n",
      "    VARS: (x_C3R10,z_C3R1R3)\n",
      "   rename:(x_C3R10,Y)⇦(x_C3R10R18,Y)\n",
      "    VARS: (x_C3R10R18,z_C3R1R3)\n",
      "R18:[x_C3R10R18,Y]. L7_R18.-(A(x_C3R10R18, b))\n",
      "    VARS: (x_C3R10R18,z_C3R1R3)\n",
      "\n",
      "C2:[x_C2,y_C2]. L2.-(P(x_C2, y_C2)), L3.+(A(x_C2, y_C2))\n",
      "    VARS: (x_C3R10R18,z_C3R1R3)\n",
      "\n",
      "----\n",
      "<L7_R18:L3>\n",
      "   unify:(x_C3R10R18,Y,x_C2,y_C2)←(x_C2,Y,x_C2,b)\n",
      "    VARS: (x_C2,z_C3R1R3)\n",
      "   rename:(x_C2,y_C2)⇦(x_C2R34,y_C2R34)\n",
      "    VARS: (x_C2R34,z_C3R1R3)\n",
      "R34:[x_C2R34,y_C2R34]. L2_R34.-(P(x_C2R34, b))\n",
      "    VARS: (x_C2R34,z_C3R1R3)\n",
      "\n",
      "C4:[]. L10.+(P(a, b))\n",
      "    VARS: (x_C2R34,z_C3R1R3)\n",
      "\n",
      "----\n",
      "<L2_R34:L10>\n",
      "   unify:(x_C2R34,y_C2R34)←(a,y_C2R34)\n",
      "    VARS: (a,z_C3R1R3)\n",
      "   rename:()⇦()\n",
      "    VARS: (a,z_C3R1R3)\n",
      "R45:[].□\n",
      "    VARS: (a,z_C3R1R3)\n",
      "\n"
     ]
    }
   ],
   "source": [
    "# show detail information of the proof of R45\n",
    "printatrace1(:R45, varsof(:C1, chis001),chis001);println()"
   ]
  },
  {
   "cell_type": "markdown",
   "metadata": {},
   "source": [
    "## ☕️"
   ]
  }
 ],
 "metadata": {
  "anaconda-cloud": {},
  "kernelspec": {
   "display_name": "Julia 0.6.0",
   "language": "julia",
   "name": "julia-0.6"
  },
  "language_info": {
   "file_extension": ".jl",
   "mimetype": "application/julia",
   "name": "julia",
   "version": "0.6.0"
  }
 },
 "nbformat": 4,
 "nbformat_minor": 1
}
