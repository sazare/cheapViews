{
 "cells": [
  {
   "cell_type": "markdown",
   "metadata": {},
   "source": [
    "### test for all with evaluation"
   ]
  },
  {
   "cell_type": "code",
   "execution_count": 1,
   "metadata": {},
   "outputs": [
    {
     "name": "stdout",
     "output_type": "stream",
     "text": [
      "\u001b[1m\u001b[37mTest Summary:  | \u001b[39m\u001b[22m\u001b[1m\u001b[32mPass  \u001b[39m\u001b[22m\u001b[1m\u001b[36mTotal\u001b[39m\u001b[22m\n",
      "vars and const | \u001b[32m  15  \u001b[39m\u001b[36m   15\u001b[39m\n",
      "\u001b[1m\u001b[37mTest Summary: | \u001b[39m\u001b[22m\u001b[1m\u001b[32mPass  \u001b[39m\u001b[22m\u001b[1m\u001b[36mTotal\u001b[39m\u001b[22m\n",
      "inside check  | \u001b[32m   6  \u001b[39m\u001b[36m    6\u001b[39m\n",
      "\u001b[1m\u001b[37mTest Summary:                | \u001b[39m\u001b[22m\u001b[1m\u001b[32mPass  \u001b[39m\u001b[22m\u001b[1m\u001b[36mTotal\u001b[39m\u001b[22m\n",
      "unify0 find a pair unifiable | \u001b[32m  13  \u001b[39m\u001b[36m   13\u001b[39m\n",
      "\u001b[1m\u001b[37mTest Summary: | \u001b[39m\u001b[22m\u001b[1m\u001b[32mPass  \u001b[39m\u001b[22m\u001b[1m\u001b[36mTotal\u001b[39m\u001b[22m\n",
      "unify         | \u001b[32m  20  \u001b[39m\u001b[36m   20\u001b[39m\n",
      "\u001b[1m\u001b[37mTest Summary: | \u001b[39m\u001b[22m\u001b[1m\u001b[32mPass  \u001b[39m\u001b[22m\u001b[1m\u001b[36mTotal\u001b[39m\u001b[22m\n",
      "genvars       | \u001b[32m   3  \u001b[39m\u001b[36m    3\u001b[39m\n",
      "\u001b[1m\u001b[37mTest Summary: | \u001b[39m\u001b[22m\u001b[1m\u001b[32mPass  \u001b[39m\u001b[22m\u001b[1m\u001b[36mTotal\u001b[39m\u001b[22m\n",
      "equalclause   | \u001b[32m   8  \u001b[39m\u001b[36m    8\u001b[39m\n",
      "\u001b[1m\u001b[37mTest Summary:   | \u001b[39m\u001b[22m\u001b[1m\u001b[32mPass  \u001b[39m\u001b[22m\u001b[1m\u001b[36mTotal\u001b[39m\u001b[22m\n",
      "pure resolution | \u001b[32m  11  \u001b[39m\u001b[36m   11\u001b[39m\n",
      "\u001b[1m\u001b[37mTest Summary:   | \u001b[39m\u001b[22m\u001b[1m\u001b[32mPass  \u001b[39m\u001b[22m\u001b[1m\u001b[36mTotal\u001b[39m\u001b[22m\n",
      "real resolution | \u001b[32m   2  \u001b[39m\u001b[36m    2\u001b[39m\n",
      "\u001b[1m\u001b[37mTest Summary: | \u001b[39m\u001b[22m\u001b[1m\u001b[32mPass  \u001b[39m\u001b[22m\u001b[1m\u001b[36mTotal\u001b[39m\u001b[22m\n",
      "reduction     | \u001b[32m   8  \u001b[39m\u001b[36m    8\u001b[39m\n",
      "\u001b[1m\u001b[37mTest Summary: | \u001b[39m\u001b[22m\u001b[1m\u001b[32mPass  \u001b[39m\u001b[22m\u001b[1m\u001b[36mTotal\u001b[39m\u001b[22m\n",
      "satisfiable   | \u001b[32m   5  \u001b[39m\u001b[36m    5\u001b[39m\n",
      "\u001b[1m\u001b[37mTest Summary: | \u001b[39m\u001b[22m\u001b[1m\u001b[32mPass  \u001b[39m\u001b[22m\u001b[1m\u001b[36mTotal\u001b[39m\u001b[22m\n",
      "readablevars  | \u001b[32m   3  \u001b[39m\u001b[36m    3\u001b[39m\n",
      "\u001b[1m\u001b[37mTest Summary: | \u001b[39m\u001b[22m\u001b[1m\u001b[32mPass  \u001b[39m\u001b[22m\u001b[1m\u001b[36mTotal\u001b[39m\u001b[22m\n",
      "reducesub     | \u001b[32m   2  \u001b[39m\u001b[36m    2\u001b[39m\n",
      "\u001b[1m\u001b[37mTest Summary: | \u001b[39m\u001b[22m\u001b[1m\u001b[32mPass  \u001b[39m\u001b[22m\u001b[1m\u001b[36mTotal\u001b[39m\u001b[22m\n",
      "fitvars       | \u001b[32m   2  \u001b[39m\u001b[36m    2\u001b[39m\n",
      "\u001b[1m\u001b[37mTest Summary:    | \u001b[39m\u001b[22m\u001b[1m\u001b[32mPass  \u001b[39m\u001b[22m\u001b[1m\u001b[36mTotal\u001b[39m\u001b[22m\n",
      "compare literals | \u001b[32m   8  \u001b[39m\u001b[36m    8\u001b[39m\n",
      "\u001b[1m\u001b[37mTest Summary: | \u001b[39m\u001b[22m\u001b[1m\u001b[32mPass  \u001b[39m\u001b[22m\u001b[1m\u001b[36mTotal\u001b[39m\u001b[22m\n",
      "sort clause   | \u001b[32m   3  \u001b[39m\u001b[36m    3\u001b[39m\n",
      "\u001b[1m\u001b[37mTest Summary:  | \u001b[39m\u001b[22m\u001b[1m\u001b[32mPass  \u001b[39m\u001b[22m\u001b[1m\u001b[36mTotal\u001b[39m\u001b[22m\n",
      "stringtoclause | \u001b[32m   3  \u001b[39m\u001b[36m    3\u001b[39m\n",
      "\u001b[1m\u001b[37mTest Summary: | \u001b[39m\u001b[22m\u001b[1m\u001b[32mPass  \u001b[39m\u001b[22m\u001b[1m\u001b[36mTotal\u001b[39m\u001b[22m\n",
      "id and etc    | \u001b[32m  22  \u001b[39m\u001b[36m   22\u001b[39m\n",
      "readcore fname=IOBuffer(data=UInt8[...], readable=true, writable=false, seekable=true, append=false, size=80, maxsize=Inf, ptr=1, mark=-1)\n",
      "\u001b[1m\u001b[37mTest Summary: | \u001b[39m\u001b[22m\u001b[1m\u001b[32mPass  \u001b[39m\u001b[22m\u001b[1m\u001b[36mTotal\u001b[39m\u001b[22m\n",
      "analyze       | \u001b[32m  12  \u001b[39m\u001b[36m   12\u001b[39m\n",
      "proc = String[\"x=12\"]\n",
      "\u001b[1m\u001b[37mTest Summary: | \u001b[39m\u001b[22m\u001b[1m\u001b[32mPass  \u001b[39m\u001b[22m\u001b[1m\u001b[36mTotal\u001b[39m\u001b[22m\n",
      "core proc     | \u001b[32m   1  \u001b[39m\u001b[36m    1\u001b[39m\n"
     ]
    },
    {
     "name": "stderr",
     "output_type": "stream",
     "text": [
      "\u001b[1m\u001b[33mWARNING: \u001b[39m\u001b[22m\u001b[33mreplacing docs for 'dostepagoal :: Tuple{Any,Any}' in module 'Main'.\u001b[39m\n",
      "\u001b[1m\u001b[33mWARNING: \u001b[39m\u001b[22m\u001b[33mreplacing docs for 'dostep1goals :: Tuple{Any,Any}' in module 'Main'.\u001b[39m\n",
      "\u001b[1m\u001b[33mWARNING: \u001b[39m\u001b[22m\u001b[33mreplacing docs for 'dostepagoal1 :: Tuple{Any,Any}' in module 'Main'.\u001b[39m\n",
      "\u001b[1m\u001b[33mWARNING: \u001b[39m\u001b[22m\u001b[33mreplacing docs for 'dostepgoals1 :: Tuple{Any,Any}' in module 'Main'.\u001b[39m\n",
      "\u001b[1m\u001b[33mWARNING: \u001b[39m\u001b[22m\u001b[33mreplacing docs for 'contradictionsof :: Tuple{Any}' in module 'Main'.\u001b[39m\n",
      "\u001b[1m\u001b[33mWARNING: \u001b[39m\u001b[22m\u001b[33mreplacing docs for 'simpleprover :: Tuple{Any,Any,Any}' in module 'Main'.\u001b[39m\n"
     ]
    },
    {
     "name": "stdout",
     "output_type": "stream",
     "text": [
      "\u001b[1m\u001b[37mTest Summary: | \u001b[39m\u001b[22m\u001b[1m\u001b[32mPass  \u001b[39m\u001b[22m\u001b[1m\u001b[36mTotal\u001b[39m\u001b[22m\n",
      "isid          | \u001b[32m   6  \u001b[39m\u001b[36m    6\u001b[39m\n",
      "\u001b[1m\u001b[37mTest Summary: | \u001b[39m\u001b[22m\u001b[1m\u001b[32mPass  \u001b[39m\u001b[22m\u001b[1m\u001b[36mTotal\u001b[39m\u001b[22m\n",
      "newvar        | \u001b[32m  10  \u001b[39m\u001b[36m   10\u001b[39m\n",
      "\u001b[1m\u001b[37mTest Summary: | \u001b[39m\u001b[22m\u001b[1m\u001b[32mPass  \u001b[39m\u001b[22m\u001b[1m\u001b[36mTotal\u001b[39m\u001b[22m\n",
      "newvarlist    | \u001b[32m   2  \u001b[39m\u001b[36m    2\u001b[39m\n",
      "\u001b[1m\u001b[37mTest Summary:     | \u001b[39m\u001b[22m\u001b[1m\u001b[32mPass  \u001b[39m\u001b[22m\u001b[1m\u001b[36mTotal\u001b[39m\u001b[22m\n",
      "input rename_term | \u001b[32m  10  \u001b[39m\u001b[36m   10\u001b[39m\n",
      "\u001b[1m\u001b[37mTest Summary:         | \u001b[39m\u001b[22m\u001b[1m\u001b[32mPass  \u001b[39m\u001b[22m\u001b[1m\u001b[36mTotal\u001b[39m\u001b[22m\n",
      "resolvent rename_term | \u001b[32m  10  \u001b[39m\u001b[36m   10\u001b[39m\n",
      "\u001b[1m\u001b[37mTest Summary: | \u001b[39m\u001b[22m\u001b[1m\u001b[32mPass  \u001b[39m\u001b[22m\u001b[1m\u001b[36mTotal\u001b[39m\u001b[22m\n",
      "rename_clause | \u001b[32m   3  \u001b[39m\u001b[36m    3\u001b[39m\n",
      "\u001b[1m\u001b[37mTest Summary: | \u001b[39m\u001b[22m\u001b[1m\u001b[32mPass  \u001b[39m\u001b[22m\u001b[1m\u001b[36mTotal\u001b[39m\u001b[22m\n",
      "fitting       | \u001b[32m   8  \u001b[39m\u001b[36m    8\u001b[39m\n",
      "\u001b[1m\u001b[37mTest Summary: | \u001b[39m\u001b[22m\u001b[1m\u001b[32mPass  \u001b[39m\u001b[22m\u001b[1m\u001b[36mTotal\u001b[39m\u001b[22m\n",
      "inverseof     | \u001b[32m   2  \u001b[39m\u001b[36m    2\u001b[39m\n",
      "\u001b[1m\u001b[37mTest Summary: | \u001b[39m\u001b[22m\u001b[1m\u001b[32mPass  \u001b[39m\u001b[22m\u001b[1m\u001b[36mTotal\u001b[39m\u001b[22m\n",
      "rotate        | \u001b[32m   5  \u001b[39m\u001b[36m    5\u001b[39m\n",
      "Symbol[:L1_C1, :L2_R1] is upon is repeated\n",
      "\u001b[1m\u001b[37mTest Summary:       | \u001b[39m\u001b[22m\u001b[1m\u001b[32mPass  \u001b[39m\u001b[22m\u001b[1m\u001b[36mTotal\u001b[39m\u001b[22m\n",
      "findrepeat in proof | \u001b[32m   2  \u001b[39m\u001b[36m    2\u001b[39m\n"
     ]
    },
    {
     "data": {
      "text/plain": [
       "Base.Test.DefaultTestSet(\"findrepeat in proof\", Any[], 2, false)"
      ]
     },
     "execution_count": 1,
     "metadata": {},
     "output_type": "execute_result"
    }
   ],
   "source": [
    "global evalon = true\n",
    "include(\"testall.jl\")"
   ]
  },
  {
   "cell_type": "markdown",
   "metadata": {},
   "source": [
    "### test for all without evaluation"
   ]
  },
  {
   "cell_type": "code",
   "execution_count": 2,
   "metadata": {},
   "outputs": [
    {
     "name": "stderr",
     "output_type": "stream",
     "text": [
      "\u001b[1m\u001b[33mWARNING: \u001b[39m\u001b[22m\u001b[33mreplacing docs for 'ICMPIn :: Union{}' in module 'Main'.\u001b[39m\n",
      "\u001b[1m\u001b[33mWARNING: \u001b[39m\u001b[22m\u001b[33mreplacing docs for 'ICMP :: Union{}' in module 'Main'.\u001b[39m\n",
      "\u001b[1m\u001b[33mWARNING: \u001b[39m\u001b[22m\u001b[33mreplacing docs for 'apply :: Tuple{Array,Number,Array}' in module 'Main'.\u001b[39m\n",
      "\u001b[1m\u001b[33mWARNING: \u001b[39m\u001b[22m\u001b[33mreplacing docs for 'putasubst :: Tuple{Array,Symbol,Union{Expr, Number, Symbol},Array}' in module 'Main'.\u001b[39m\n",
      "\u001b[1m\u001b[33mWARNING: \u001b[39m\u001b[22m\u001b[33mreplacing docs for 'unify1 :: Tuple{Array,Expr,Expr,Array}' in module 'Main'.\u001b[39m\n",
      "\u001b[1m\u001b[33mWARNING: \u001b[39m\u001b[22m\u001b[33mreplacing docs for 'unify :: Tuple{Array,Expr,Expr}' in module 'Main'.\u001b[39m\n",
      "\u001b[1m\u001b[33mWARNING: \u001b[39m\u001b[22m\u001b[33mreplacing docs for 'resolution :: Tuple{Array,Array,Array,Int64,Int64}' in module 'Main'.\u001b[39m\n",
      "\u001b[1m\u001b[33mWARNING: \u001b[39m\u001b[22m\u001b[33mreplacing docs for 'reduction :: Tuple{Array,Array,Int64}' in module 'Main'.\u001b[39m\n",
      "\u001b[1m\u001b[33mWARNING: \u001b[39m\u001b[22m\u001b[33mreplacing docs for 'satisfiable :: Tuple{Array,Array}' in module 'Main'.\u001b[39m\n"
     ]
    },
    {
     "name": "stdout",
     "output_type": "stream",
     "text": [
      "\u001b[1m\u001b[37mTest Summary:  | \u001b[39m\u001b[22m\u001b[1m\u001b[32mPass  \u001b[39m\u001b[22m\u001b[1m\u001b[36mTotal\u001b[39m\u001b[22m\n",
      "vars and const | \u001b[32m  15  \u001b[39m\u001b[36m   15\u001b[39m\n",
      "\u001b[1m\u001b[37mTest Summary: | \u001b[39m\u001b[22m\u001b[1m\u001b[32mPass  \u001b[39m\u001b[22m\u001b[1m\u001b[36mTotal\u001b[39m\u001b[22m\n",
      "inside check  | \u001b[32m   6  \u001b[39m\u001b[36m    6\u001b[39m\n",
      "\u001b[1m\u001b[37mTest Summary:                | \u001b[39m\u001b[22m\u001b[1m\u001b[32mPass  \u001b[39m\u001b[22m\u001b[1m\u001b[36mTotal\u001b[39m\u001b[22m\n",
      "unify0 find a pair unifiable | \u001b[32m  13  \u001b[39m\u001b[36m   13\u001b[39m\n",
      "\u001b[1m\u001b[37mTest Summary: | \u001b[39m\u001b[22m\u001b[1m\u001b[32mPass  \u001b[39m\u001b[22m\u001b[1m\u001b[36mTotal\u001b[39m\u001b[22m\n",
      "unify         | \u001b[32m  20  \u001b[39m\u001b[36m   20\u001b[39m\n",
      "\u001b[1m\u001b[37mTest Summary: | \u001b[39m\u001b[22m\u001b[1m\u001b[32mPass  \u001b[39m\u001b[22m\u001b[1m\u001b[36mTotal\u001b[39m\u001b[22m\n",
      "genvars       | \u001b[32m   3  \u001b[39m\u001b[36m    3\u001b[39m\n",
      "\u001b[1m\u001b[37mTest Summary: | \u001b[39m\u001b[22m\u001b[1m\u001b[32mPass  \u001b[39m\u001b[22m\u001b[1m\u001b[36mTotal\u001b[39m\u001b[22m\n",
      "equalclause   | \u001b[32m   8  \u001b[39m\u001b[36m    8\u001b[39m\n",
      "\u001b[1m\u001b[37mTest Summary:   | \u001b[39m\u001b[22m\u001b[1m\u001b[32mPass  \u001b[39m\u001b[22m\u001b[1m\u001b[36mTotal\u001b[39m\u001b[22m\n",
      "pure resolution | \u001b[32m  11  \u001b[39m\u001b[36m   11\u001b[39m\n",
      "\u001b[1m\u001b[37mTest Summary:   | \u001b[39m\u001b[22m\u001b[1m\u001b[32mPass  \u001b[39m\u001b[22m\u001b[1m\u001b[36mTotal\u001b[39m\u001b[22m\n",
      "real resolution | \u001b[32m   2  \u001b[39m\u001b[36m    2\u001b[39m\n",
      "\u001b[1m\u001b[37mTest Summary: | \u001b[39m\u001b[22m\u001b[1m\u001b[32mPass  \u001b[39m\u001b[22m\u001b[1m\u001b[36mTotal\u001b[39m\u001b[22m\n",
      "reduction     | \u001b[32m   8  \u001b[39m\u001b[36m    8\u001b[39m\n",
      "\u001b[1m\u001b[37mTest Summary: | \u001b[39m\u001b[22m\u001b[1m\u001b[32mPass  \u001b[39m\u001b[22m\u001b[1m\u001b[36mTotal\u001b[39m\u001b[22m\n",
      "satisfiable   | \u001b[32m   5  \u001b[39m\u001b[36m    5\u001b[39m\n",
      "\u001b[1m\u001b[37mTest Summary: | \u001b[39m\u001b[22m\u001b[1m\u001b[32mPass  \u001b[39m\u001b[22m\u001b[1m\u001b[36mTotal\u001b[39m\u001b[22m\n",
      "readablevars  | \u001b[32m   3  \u001b[39m\u001b[36m    3\u001b[39m\n",
      "\u001b[1m\u001b[37mTest Summary: | \u001b[39m\u001b[22m\u001b[1m\u001b[32mPass  \u001b[39m\u001b[22m\u001b[1m\u001b[36mTotal\u001b[39m\u001b[22m\n",
      "reducesub     | \u001b[32m   2  \u001b[39m\u001b[36m    2\u001b[39m\n",
      "\u001b[1m\u001b[37mTest Summary: | \u001b[39m\u001b[22m\u001b[1m\u001b[32mPass  \u001b[39m\u001b[22m\u001b[1m\u001b[36mTotal\u001b[39m\u001b[22m\n",
      "fitvars       | \u001b[32m   2  \u001b[39m\u001b[36m    2\u001b[39m\n",
      "\u001b[1m\u001b[37mTest Summary:    | \u001b[39m\u001b[22m\u001b[1m\u001b[32mPass  \u001b[39m\u001b[22m\u001b[1m\u001b[36mTotal\u001b[39m\u001b[22m\n",
      "compare literals | \u001b[32m   8  \u001b[39m\u001b[36m    8\u001b[39m\n",
      "\u001b[1m\u001b[37mTest Summary: | \u001b[39m\u001b[22m\u001b[1m\u001b[32mPass  \u001b[39m\u001b[22m\u001b[1m\u001b[36mTotal\u001b[39m\u001b[22m\n",
      "sort clause   | \u001b[32m   3  \u001b[39m\u001b[36m    3\u001b[39m\n"
     ]
    },
    {
     "name": "stderr",
     "output_type": "stream",
     "text": [
      "\u001b[1m\u001b[33mWARNING: \u001b[39m\u001b[22m\u001b[33mreplacing docs for 'dostepagoal :: Tuple{Any,Any}' in module 'Main'.\u001b[39m\n",
      "\u001b[1m\u001b[33mWARNING: \u001b[39m\u001b[22m\u001b[33mreplacing docs for 'dostep1goals :: Tuple{Any,Any}' in module 'Main'.\u001b[39m\n",
      "\u001b[1m\u001b[33mWARNING: \u001b[39m\u001b[22m\u001b[33mreplacing docs for 'dostepagoal1 :: Tuple{Any,Any}' in module 'Main'.\u001b[39m\n",
      "\u001b[1m\u001b[33mWARNING: \u001b[39m\u001b[22m\u001b[33mreplacing docs for 'dostepgoals1 :: Tuple{Any,Any}' in module 'Main'.\u001b[39m\n",
      "\u001b[1m\u001b[33mWARNING: \u001b[39m\u001b[22m\u001b[33mreplacing docs for 'contradictionsof :: Tuple{Any}' in module 'Main'.\u001b[39m\n",
      "\u001b[1m\u001b[33mWARNING: \u001b[39m\u001b[22m\u001b[33mreplacing docs for 'simpleprover :: Tuple{Any,Any,Any}' in module 'Main'.\u001b[39m\n"
     ]
    },
    {
     "name": "stdout",
     "output_type": "stream",
     "text": [
      "\u001b[1m\u001b[37mTest Summary:  | \u001b[39m\u001b[22m\u001b[1m\u001b[32mPass  \u001b[39m\u001b[22m\u001b[1m\u001b[36mTotal\u001b[39m\u001b[22m\n",
      "stringtoclause | \u001b[32m   3  \u001b[39m\u001b[36m    3\u001b[39m\n",
      "\u001b[1m\u001b[37mTest Summary: | \u001b[39m\u001b[22m\u001b[1m\u001b[32mPass  \u001b[39m\u001b[22m\u001b[1m\u001b[36mTotal\u001b[39m\u001b[22m\n",
      "id and etc    | \u001b[32m  22  \u001b[39m\u001b[36m   22\u001b[39m\n",
      "readcore fname=IOBuffer(data=UInt8[...], readable=true, writable=false, seekable=true, append=false, size=80, maxsize=Inf, ptr=1, mark=-1)\n",
      "\u001b[1m\u001b[37mTest Summary: | \u001b[39m\u001b[22m\u001b[1m\u001b[32mPass  \u001b[39m\u001b[22m\u001b[1m\u001b[36mTotal\u001b[39m\u001b[22m\n",
      "analyze       | \u001b[32m  12  \u001b[39m\u001b[36m   12\u001b[39m\n",
      "proc = String[\"x=12\"]\n",
      "\u001b[1m\u001b[37mTest Summary: | \u001b[39m\u001b[22m\u001b[1m\u001b[32mPass  \u001b[39m\u001b[22m\u001b[1m\u001b[36mTotal\u001b[39m\u001b[22m\n",
      "core proc     | \u001b[32m   1  \u001b[39m\u001b[36m    1\u001b[39m\n"
     ]
    },
    {
     "name": "stderr",
     "output_type": "stream",
     "text": [
      "\u001b[1m\u001b[33mWARNING: \u001b[39m\u001b[22m\u001b[33mreplacing docs for 'dostepagoal :: Tuple{Any,Any}' in module 'Main'.\u001b[39m\n",
      "\u001b[1m\u001b[33mWARNING: \u001b[39m\u001b[22m\u001b[33mreplacing docs for 'dostep1goals :: Tuple{Any,Any}' in module 'Main'.\u001b[39m\n",
      "\u001b[1m\u001b[33mWARNING: \u001b[39m\u001b[22m\u001b[33mreplacing docs for 'dostepagoal1 :: Tuple{Any,Any}' in module 'Main'.\u001b[39m\n",
      "\u001b[1m\u001b[33mWARNING: \u001b[39m\u001b[22m\u001b[33mreplacing docs for 'dostepgoals1 :: Tuple{Any,Any}' in module 'Main'.\u001b[39m\n",
      "\u001b[1m\u001b[33mWARNING: \u001b[39m\u001b[22m\u001b[33mreplacing docs for 'contradictionsof :: Tuple{Any}' in module 'Main'.\u001b[39m\n",
      "\u001b[1m\u001b[33mWARNING: \u001b[39m\u001b[22m"
     ]
    },
    {
     "name": "stdout",
     "output_type": "stream",
     "text": [
      "\u001b[1m\u001b[37mTest Summary: | \u001b[39m\u001b[22m\u001b[1m\u001b[32mPass  \u001b[39m\u001b[22m\u001b[1m\u001b[36mTotal\u001b[39m\u001b[22m\n",
      "isid          | \u001b[32m   6  \u001b[39m\u001b[36m    6\u001b[39m\n",
      "\u001b[1m\u001b[37mTest Summary: | \u001b[39m\u001b[22m"
     ]
    },
    {
     "name": "stderr",
     "output_type": "stream",
     "text": [
      "\u001b[33mreplacing docs for 'simpleprover :: Tuple{Any,Any,Any}' in module 'Main'.\u001b[39m\n"
     ]
    },
    {
     "name": "stdout",
     "output_type": "stream",
     "text": [
      "\u001b[1m\u001b[32mPass  \u001b[39m\u001b[22m\u001b[1m\u001b[36mTotal\u001b[39m\u001b[22m\n",
      "newvar        | \u001b[32m  10  \u001b[39m\u001b[36m   10\u001b[39m\n",
      "\u001b[1m\u001b[37mTest Summary: | \u001b[39m\u001b[22m\u001b[1m\u001b[32mPass  \u001b[39m\u001b[22m\u001b[1m\u001b[36mTotal\u001b[39m\u001b[22m\n",
      "newvarlist    | \u001b[32m   2  \u001b[39m\u001b[36m    2\u001b[39m\n",
      "\u001b[1m\u001b[37mTest Summary:     | \u001b[39m\u001b[22m\u001b[1m\u001b[32mPass  \u001b[39m\u001b[22m\u001b[1m\u001b[36mTotal\u001b[39m\u001b[22m\n",
      "input rename_term | \u001b[32m  10  \u001b[39m\u001b[36m   10\u001b[39m\n",
      "\u001b[1m\u001b[37mTest Summary:         | \u001b[39m\u001b[22m\u001b[1m\u001b[32mPass  \u001b[39m\u001b[22m\u001b[1m\u001b[36mTotal\u001b[39m\u001b[22m\n",
      "resolvent rename_term | \u001b[32m  10  \u001b[39m\u001b[36m   10\u001b[39m\n",
      "\u001b[1m\u001b[37mTest Summary: | \u001b[39m\u001b[22m\u001b[1m\u001b[32mPass  \u001b[39m\u001b[22m\u001b[1m\u001b[36mTotal\u001b[39m\u001b[22m\n",
      "rename_clause | \u001b[32m   3  \u001b[39m\u001b[36m    3\u001b[39m\n",
      "\u001b[1m\u001b[37mTest Summary: | \u001b[39m\u001b[22m\u001b[1m\u001b[32mPass  \u001b[39m\u001b[22m\u001b[1m\u001b[36mTotal\u001b[39m\u001b[22m\n",
      "fitting       | \u001b[32m   8  \u001b[39m\u001b[36m    8\u001b[39m\n",
      "\u001b[1m\u001b[37mTest Summary: | \u001b[39m\u001b[22m\u001b[1m\u001b[32mPass  \u001b[39m\u001b[22m\u001b[1m\u001b[36mTotal\u001b[39m\u001b[22m\n",
      "inverseof     | \u001b[32m   2  \u001b[39m\u001b[36m    2\u001b[39m\n",
      "\u001b[1m\u001b[37mTest Summary: | \u001b[39m\u001b[22m\u001b[1m\u001b[32mPass  \u001b[39m\u001b[22m\u001b[1m\u001b[36mTotal\u001b[39m\u001b[22m\n",
      "rotate        | \u001b[32m   5  \u001b[39m\u001b[36m    5\u001b[39m\n",
      "Symbol[:L1_C1, :L2_R1] is upon is repeated\n",
      "\u001b[1m\u001b[37mTest Summary:       | \u001b[39m\u001b[22m\u001b[1m\u001b[32mPass  \u001b[39m\u001b[22m\u001b[1m\u001b[36mTotal\u001b[39m\u001b[22m\n",
      "findrepeat in proof | \u001b[32m   2  \u001b[39m\u001b[36m    2\u001b[39m\n"
     ]
    },
    {
     "data": {
      "text/plain": [
       "Base.Test.DefaultTestSet(\"findrepeat in proof\", Any[], 2, false)"
      ]
     },
     "execution_count": 2,
     "metadata": {},
     "output_type": "execute_result"
    }
   ],
   "source": [
    "global evalon = false\n",
    "include(\"testall.jl\")"
   ]
  },
  {
   "cell_type": "code",
   "execution_count": 3,
   "metadata": {},
   "outputs": [
    {
     "name": "stdout",
     "output_type": "stream",
     "text": [
      "evalon=false\n",
      "in abc, evalon=false\n"
     ]
    }
   ],
   "source": [
    "include(\"gtest0.jl\")"
   ]
  },
  {
   "cell_type": "code",
   "execution_count": null,
   "metadata": {},
   "outputs": [],
   "source": []
  }
 ],
 "metadata": {
  "kernelspec": {
   "display_name": "Julia 0.6.0",
   "language": "julia",
   "name": "julia-0.6"
  },
  "language_info": {
   "file_extension": ".jl",
   "mimetype": "application/julia",
   "name": "julia",
   "version": "0.6.0"
  }
 },
 "nbformat": 4,
 "nbformat_minor": 2
}
