{
 "cells": [
  {
   "cell_type": "markdown",
   "metadata": {},
   "source": [
    "# Basic concepts for this tool"
   ]
  },
  {
   "cell_type": "markdown",
   "metadata": {},
   "source": [
    "## What is this"
   ]
  },
  {
   "cell_type": "markdown",
   "metadata": {},
   "source": [
    "## Terminology"
   ]
  },
  {
   "cell_type": "markdown",
   "metadata": {},
   "source": [
    "### In general\n",
    "- constant\n",
    "- variable\n",
    "- term\n",
    "- atom\n",
    "- literal\n",
    "- Psym, Lsym\n",
    "- clause\n",
    "- set of clauses\n",
    "- conjecture, neg of conjecture\n",
    "- substitution/replacement\n",
    "- unifier, mgu\n",
    "- resolution\n",
    "- resolvent\n",
    "- literals resolved upon(I call it 'uponed pair' -- only here)\n",
    "- rename(vars)\n",
    "- fitting(vars) -- (only here)\n",
    "- reduction\n",
    "- contradiction\n",
    "- proof\n",
    "- refutation : a proof of contradiction\n"
   ]
  },
  {
   "cell_type": "markdown",
   "metadata": {},
   "source": [
    "### in special(only here)\n",
    "- Disjoint Variables Condition(DVC)\n",
    "- "
   ]
  },
  {
   "cell_type": "markdown",
   "metadata": {},
   "source": [
    "### practical concepts\n",
    "- For efficient renameing, with DVC, post-rename.\n",
    "- A proof is sequence of uponed pair\n",
    "- Uponed pair is identical to mgu\n",
    "- All resolvents come from input clauses. The uponed pair in resolvents also come from input literals.\n",
    "- "
   ]
  },
  {
   "cell_type": "markdown",
   "metadata": {},
   "source": []
  }
 ],
 "metadata": {
  "kernelspec": {
   "display_name": "Julia 0.6.0",
   "language": "julia",
   "name": "julia-0.6"
  },
  "language_info": {
   "file_extension": ".jl",
   "mimetype": "application/julia",
   "name": "julia",
   "version": "0.6.0"
  }
 },
 "nbformat": 4,
 "nbformat_minor": 2
}
