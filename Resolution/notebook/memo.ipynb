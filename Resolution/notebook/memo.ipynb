{
 "cells": [
  {
   "cell_type": "markdown",
   "metadata": {},
   "source": [
    "# メモ"
   ]
  },
  {
   "cell_type": "markdown",
   "metadata": {},
   "source": [
    "### 論理を使うメリットは何か?\n",
    "1. 推論部分を自動証明でできるなら、Programでも書ける。自動証明にするメリットはなにか?\n",
    "1. 論理式で書くことによる柔軟さはあるはず。\n",
    "1. プログラムでは得られないツールが考えられる。\n",
    "    - Axiomの無矛盾性を証明できるならば、プログラムではできない。\n",
    "        - templateにして、欠落があればそれはのぞいて良いなど\n",
    "    - 入出力を指定せずに構造を定義する。\n",
    "        - プログラムよりも広範囲の・・・モデルを記述できるメリット\n",
    "1. だとすると\n",
    "    - prologはプログラムを論理式で書いていたので、あまり論理を使うメリットはなかったのではないか??\n"
   ]
  },
  {
   "cell_type": "markdown",
   "metadata": {},
   "source": [
    "### 機械学習と自動証明(動機)\n",
    "\n",
    "機械学習(深層学習)のことは詳しくは知らないが、いくつかのシステムを見たところ、画像を与えると、その画像が属する、あるいは含む何かについて、タグとその確率(?)を判定してくれるらしい。画像以外のものはよくしらない。\n",
    "\n",
    "この数字が確率であれば、それに基づいてベイズを使うのかどうか知らないが、推論をするという話もあるらしい。\n",
    "\n",
    "一方で、自動証明あるいは機械証明というものがあって、ここではResolution Principleを使うのしか考えないが(SAT solverだったりSMTなどもその一分野だと思う)。\n",
    "Resolutionは推論のルールで、これによって推論を積み重ねていく。この場合の推論は、上の確率ベースの推論とは違うものだろうと思う。\n",
    "\n",
    "今は、この二つの分野を連携するという話をあまり聞かないけれど、うまく繋げることができるのではないかというのが、当面の目標目的?。\n",
    "\n",
    "2. では、どうつなげるかという話になるのだが、今の段階ではそれほど明確ではない。ぼんやりとしたイメージとして、次のようなものを持っているが、よりよいものに変わるかもしれない。\n",
    "\n",
    "    1. ML(機械学習)で、写真に含まれる概念を抽出する。\n",
    "        1. これを児童証明のwffにする。たとえば\n",
    "            ``` P(x, 0.9) ```\n",
    "            で、'ある画像xがPである確率0.9'を示す。PはMLの出力のタグに相当する\n",
    "            画像xは、複数の述語で書かれ得るので、Factとして\n",
    "            ```\n",
    "            P(x,0.9)\n",
    "            Q(x,0.8)\n",
    "            R(x,0.99)\n",
    "            ```\n",
    "            のようになる。\n",
    "        2. MLによってFactの集合を得て、そのうえで何か自明でないことを証明する\n",
    "        3. できれば、Fact上で成り立つ性質を自動的に発見する。\n",
    "\n",
    "3. こういうことを実現するために、次のような仕組みが必要なのだろうと思っている。\n",
    "    - いろいろな世界を記述する方法の洗練\n",
    "    - 確率に基づく推論での自動証明\n",
    "    - 時間に基づく推論での自動証明\n",
    "    - 等号(=)を含む推論(SMTにつながる)\n",
    "    - Factの抽象化、一般化\n",
    "    - ...\n",
    "    \n",
    "4. 個別の分野は既存だが、問題設定が違うから、それなりにしなくてはならないことがあるだろうと思っている。\n"
   ]
  },
  {
   "cell_type": "markdown",
   "metadata": {},
   "source": [
    "### 世界の書き方\n",
    "何かを書きたい時、どうやって書くかは、昔から難しいと思っていた。\n",
    "道具もできたことなので、いろいろ試してみることにする。\n"
   ]
  },
  {
   "cell_type": "markdown",
   "metadata": {},
   "source": [
    "#### conjectureの意味(3.25) \n",
    "\n",
    "1. (3.25) conjectureの意味はなんなんだろうか\n",
    "\n",
    "* (id1.wff) Axiomsを次のようにとったとき、conjは+E(x,x)であり、Axiomsが2から3のときはで常にこの関係が成り立っているということを証明でき、Aiomsに4を加えると、d,eについて成り立たないことが示せないかと期待したのだが、そうはいかない。\n",
    "\n",
    "```\n",
    "1 [x].[-E(x,x)]\n",
    "2 [].[+E(a,a)]\n",
    "3 [].[+E(b,b)]\n",
    "4 [].[+E(d,e)]\n",
    "```\n",
    "このとき、aとbについては[]がでるが、d,eについては出ないので、この証明集合の全体をみると、{2,3}については1が成り立っていると判断できるが、何かひとつの証明でそれができているわけではない。\n",
    "\n",
    "もしもそのような証明がしたかったら1のように変数で示すのではなく\n",
    "```\n",
    "-E(a,a)\n",
    "-E(b,b)\n",
    "-E(d,d)\n",
    "-E(e,e)\n",
    "```\n",
    "と展開したconjectureを証明することになるはずだ。\n",
    "\n",
    "その場合、Axiomに+E(a,a)などが存在していたら、この方法は1段階の証明でしか証明できないのでトリビアルになり、意義はない。\n",
    "\n",
    "私は何がしたいのだろうか?\n",
    "\n",
    "2. もしも、-E(x,x)となる定数が存在すれば、1は否定できる。とすると\n",
    "```\n",
    "1'. [x].[+E(x,x)]\n",
    "```\n",
    "    だと、何も証明できない。反証できない。\n",
    "3. Axiomsに[x].[+E(x,x)]をいれておけばいいのか?　conjをどうするかがわからないが、まずdと同じものを探してみる。\n",
    "\n",
    "```\n",
    "1 [x].[-E(d,x)]\n",
    "2 [].[+E(a,a)]\n",
    "3 [].[+E(b,b)]\n",
    "4 [].[+E(d,e)]\n",
    "5 [x].[+E(x,x)]\n",
    "```\n",
    "    こうすると、1のxに代入されるrefutationでは、{x←d}と{d←e}がみつかるので、なんとなくうれしい。\n",
    "\n",
    "4. この方向なら、1を$[x].[-E(x,x)]$とすれば等しいものがわかるのかと思ったが、それはEが等しいものを定義しているという意味ではないので却下。\n",
    "\n",
    "1を$[x,y].[-E(x,y)]$とするとEを満たすすべてのpairを求めることになるのでこうすると\n",
    "\n",
    "```\n",
    "1 [x,y].[-E(x,y)]\n",
    "2 [].[+E(a,a)]\n",
    "3 [].[+E(b,b)]\n",
    "4 [].[+E(d,e)]\n",
    "5. [x].[+E(x,x)]\n",
    "```\n",
    "でx,yにすべての組み合わせの結果が代入される証明が得られる。\n",
    "これ自体はトリビアルだが、何か発展できないか?\n",
    "\n",
    "5. この方法は、DBで制約条件を増やしてそれを満たすデータを求めているのと同じ\n",
    "\n",
    "```\n",
    "1. -E(x),-D(x)\n",
    "2. E(a)\n",
    "3. E(b)\n",
    "4. D(a)\n",
    "5. D(c)\n",
    "```\n",
    "で、conjに着目すると{x←a}の証明が得られるのと同じ。\n",
    "\n",
    "6. 次の操作には意味があるのではないか\n",
    "    1. 得られたrefutaionから情報を取り出す操作\n",
    "    2. \n",
    "\n"
   ]
  },
  {
   "cell_type": "markdown",
   "metadata": {},
   "source": [
    "### 半順序のようなもの"
   ]
  },
  {
   "cell_type": "markdown",
   "metadata": {},
   "source": [
    "(a) $\\forall x,z \\exists y +H(x,y)\\land +H(y,z)\\to +H(x,z)$\n",
    "\n",
    "eigen変数を除去すると\n",
    "(a') $\\forall x,z +H(x,y(x,z))\\land +H(y(x,z),z)\\to +H(x,z)$\n",
    "\n",
    "\n",
    "\n",
    "\n",
    "これは間違っている\n",
    "$\\forall x,z,y +H(x,y)\\land +H(y,z)\\to +H(x,z)$\n",
    "\n",
    "\n"
   ]
  },
  {
   "cell_type": "markdown",
   "metadata": {},
   "source": []
  },
  {
   "cell_type": "markdown",
   "metadata": {},
   "source": [
    "### Fact$(\\Phi)$とHypo$(\\Theta)$"
   ]
  },
  {
   "cell_type": "markdown",
   "metadata": {},
   "source": [
    "$\\Theta$が$\\Phi$の法則だということはどういう意味か?"
   ]
  },
  {
   "cell_type": "markdown",
   "metadata": {},
   "source": [
    "1. $\\Phi$を操作して$\\Theta$が求められるか? むりではないか"
   ]
  },
  {
   "cell_type": "markdown",
   "metadata": {},
   "source": [
    "2. 法則であることを証明する手段はあるか? そもそも法則だというのはどういう定義になるのか"
   ]
  },
  {
   "cell_type": "markdown",
   "metadata": {},
   "source": [
    "a) まず、$\\Phi \\vdash \\Theta$であるということだろう。では証明は?"
   ]
  },
  {
   "cell_type": "markdown",
   "metadata": {},
   "source": [
    "$\\Phi\\mid_{\\phi}^*$を$\\Phi^{'} \\nvdash \\phi$であるとする。ここで、$\\Phi^{'}$は$\\Phi$から$\\Phi^{'} \\nvdash \\phi$となるまで要素をのぞいたものとする。\n",
    "    唯一にはならないかもしれない。\n",
    "    "
   ]
  },
  {
   "cell_type": "markdown",
   "metadata": {},
   "source": [
    "未完"
   ]
  },
  {
   "cell_type": "markdown",
   "metadata": {},
   "source": [
    "### 確率論理"
   ]
  },
  {
   "cell_type": "markdown",
   "metadata": {},
   "source": [
    "1. $R(..., prob)$と書くことにする。\n",
    "\n",
    "もとい\n",
    "\n",
    "1. $R(x)/p$と書いてみる。つまり、xの存在する確率がpなのか、R(x)が真である確率がpなのか。\n",
    "\n",
    "\n",
    "ある絵があったとき、そこに描かれているものが存在すると信じる理由はなにか?\n",
    "\n",
    "そこには花が描かれているのかもしれないし、火が描かれているのかもしれない。というような状況を考える。\n",
    "\n",
    "\n"
   ]
  },
  {
   "cell_type": "markdown",
   "metadata": {},
   "source": [
    "何億もの試行\n",
    "\n",
    "conpetition\n",
    "\n",
    "何億人もの子供に競争をさせて、両方の経験を集約していく。\n",
    "\n",
    "Alpha GOハドウヤッテイタノダロウカ\n",
    "\n"
   ]
  },
  {
   "cell_type": "markdown",
   "metadata": {},
   "source": [
    "#### 確率と否定の関係?\n",
    "1. R(x,1.0)は、xの起きる確率が1.0。R(x,0.0)はxが決して起きないということを意味する。\n",
    "2. -R(x,1.0)の意味は何か? \n",
    "3. -R(x,0.0)の意味はなにか?何にしたいか?\n",
    "4. 否定とはなにか?"
   ]
  },
  {
   "cell_type": "markdown",
   "metadata": {},
   "source": [
    "#### 確率世界と確定世界の関係\n",
    "5. $ R(a,1.0) \\equiv R(a)$と考えることにしよう"
   ]
  },
  {
   "cell_type": "markdown",
   "metadata": {},
   "source": [
    "#### 論理\n",
    "1. aからdへのパスが二つあるとする。$a \\to b, a \\to c, b \\to d, c \\to d$\n",
    "1. 確率は、$Pr(a,b)=0.5, Pr(a,c)=0.5, Pr(b,d)=1.0, Pr(c,d)=1.0$でこれ以外にパスはない。とする。\n",
    "    これ以外にパスがないことをどう表すか?\n",
    "1. このとき\n",
    "    $R(a,b,0.5), R(a,c,0.5), R(b,d,1.0), R(c,d,1.0) \\to R(a,d,1.0)$のようなことが成り立てばよい。\n",
    "1. もっと簡単な場合は\n",
    "    $R(a,b,1.0), R(b,c,1.0)\\to R(a,c,1.0)$\n",
    "    "
   ]
  },
  {
   "cell_type": "markdown",
   "metadata": {},
   "source": []
  },
  {
   "cell_type": "markdown",
   "metadata": {},
   "source": []
  },
  {
   "cell_type": "markdown",
   "metadata": {},
   "source": []
  },
  {
   "cell_type": "markdown",
   "metadata": {},
   "source": [
    "参考資料\n",
    "- The Resolution Calculus, Alexander Leitsch, Springer-Verlag Berlin Heidelberg New York, 1997\n",
    "- Symbolic Logic and Mechanical Theorem Proving, Chin-Liang Chang and Richard Char-Tung Lee, Academic Press, 1973\n",
    "- LOGIC: FORM AND FUNCTION The Mechanization of Deductive Reasoning, J.A.Robinson, Edinburgh University Pres, 1979\n"
   ]
  },
  {
   "cell_type": "markdown",
   "metadata": {},
   "source": []
  }
 ],
 "metadata": {
  "kernelspec": {
   "display_name": "Julia 0.6.0",
   "language": "julia",
   "name": "julia-0.6"
  },
  "language_info": {
   "file_extension": ".jl",
   "mimetype": "application/julia",
   "name": "julia",
   "version": "0.6.0"
  }
 },
 "nbformat": 4,
 "nbformat_minor": 2
}
